{
 "cells": [
  {
   "cell_type": "markdown",
   "metadata": {
    "id": "YTvil-36xLhq"
   },
   "source": [
    "#Public Cloud\n",
    "- 가장 많이 사용하는 클라우드 서비스\n",
    "- 클라우드 서비스 제공자 또는 호스팅 제공 업체가 소유\n",
    "- 특정되지 않은 사용자에게 리소스와 서비스를 제공\n",
    "- 보안된 네트워크 연결을 통해 액세스\n",
    "- 대표적인 공용 클라우드 서비스로는 AWS, Azure, Google Cloud Platform 등이 있음\n",
    "\n",
    "#Private Cloud\n",
    "- 클라우드 리소스를 조직에서 소유하고 관리/운영\n",
    "- 특정 사용자에게만 리소스와 서비스를 제공\n",
    "보\n",
    "- 대표적인 사설 클라우드 솔루션으로는 VMware,OpenStack 등이 있음\n",
    "\n",
    "#Hybrid Cloud\n",
    "- 사내 데이터센터를 고용 클라우드로 확장하는 개념\n",
    "- 공공 클라우드와 사설 클라우드를 결합\n",
    "- 일반적으로 VPN 또는 물리적인 전용선으로 연결\n",
    "- 가장 유연한 모델\n",
    "\n",
    "# Cloud Computing 서비스 제공\n",
    "1. Traditional on Premises\n",
    "- 물리적인 환경을 설치하고 -> Virtualization -> OS -> 소프트웨어 설치 -> data -> 어플리케이션\n",
    "- 처음부터 사용자가 구성하고 전체를 관리한다.\n",
    "2. Infrasturcture (as a Service)(=Iaas)\n",
    "- OS -> 소프트웨어 설치 -> data -> 어플리케이션\n",
    "- 위의 과정만 사용자가 구성함\n",
    "- ex) 차량구매\n",
    "3. Platform (as a Service)(=Paas)\n",
    "- Data->어플리케이션\n",
    "- 위에 두 과정만 관리함\n",
    "- ex) 렌트카\n",
    "4. Software (as a Service)(=Saas)\n",
    "- 전부를 클라우드가 관리함\n",
    "- ex) 택시\n",
    "\n",
    "\n",
    "----\n",
    "\n",
    "- 사용자가 관리하는 부분이 줄어들수록 클라우드가 관리함\n",
    "\n",
    "- 사내에 인력구성에 따라 서비스 제공하는 것이 달라짐\n",
    "\n",
    "-----"
   ]
  },
  {
   "cell_type": "markdown",
   "metadata": {
    "id": "gp5J8aot1aOL"
   },
   "source": [
    "**Cloud = Virtualization + Network**\n"
   ]
  },
  {
   "cell_type": "markdown",
   "metadata": {
    "id": "jPHyQBUD1GTy"
   },
   "source": [
    "#참고 서적 : 그림으로 배우는 네트워크 원리"
   ]
  },
  {
   "cell_type": "markdown",
   "metadata": {
    "id": "rshI17Q41HB_"
   },
   "source": [
    "## Mac) Azure portal을 이용해서 가상서버 구축\n",
    "1. https://portal.azure.com \n",
    "2. 리소스 만들기\n",
    "3. `가상 머신 만들기`\n",
    "  1. \b*되어있는 부분은 채우기\n",
    "  2. `관리자 계정` [user name], [passward]\n",
    "  3. 인바운드 포트 규칙에서 원하는 포트 선택\n",
    "4. 네트워크, 디스크 ... 필요한 부분 채워넣기 \n",
    "5. [검토 + 만들기]\n",
    "6. 계정을 만들고 난 후 가상 머신의 공통 IP 주소 저장\n",
    "7. `Microsoft Remote Desktop.app` 에서 공통IP와 [username@공통ip]-[passward]\n"
   ]
  },
  {
   "cell_type": "code",
   "execution_count": null,
   "metadata": {
    "id": "_o4-fMyP1HIP"
   },
   "outputs": [],
   "source": []
  },
  {
   "cell_type": "code",
   "execution_count": null,
   "metadata": {
    "id": "TyhNKVwY1HNS"
   },
   "outputs": [],
   "source": []
  },
  {
   "cell_type": "code",
   "execution_count": null,
   "metadata": {
    "id": "_6ntirBM1HSC"
   },
   "outputs": [],
   "source": []
  },
  {
   "cell_type": "code",
   "execution_count": null,
   "metadata": {
    "id": "kxJy-TtP1HWb"
   },
   "outputs": [],
   "source": []
  },
  {
   "cell_type": "code",
   "execution_count": null,
   "metadata": {
    "id": "5OfzW-I-1HcL"
   },
   "outputs": [],
   "source": []
  },
  {
   "cell_type": "code",
   "execution_count": null,
   "metadata": {
    "id": "Rt-coSMJ1Hhq"
   },
   "outputs": [],
   "source": []
  }
 ],
 "metadata": {
  "colab": {
   "authorship_tag": "ABX9TyP7LKZ9kQ6jj2Nr5o5U8nh4",
   "provenance": []
  },
  "kernelspec": {
   "display_name": "Python 3 (ipykernel)",
   "language": "python",
   "name": "python3"
  },
  "language_info": {
   "codemirror_mode": {
    "name": "ipython",
    "version": 3
   },
   "file_extension": ".py",
   "mimetype": "text/x-python",
   "name": "python",
   "nbconvert_exporter": "python",
   "pygments_lexer": "ipython3",
   "version": "3.11.3"
  }
 },
 "nbformat": 4,
 "nbformat_minor": 1
}
