{
  "cells": [
    {
      "cell_type": "code",
      "source": [
        "from azureml.core import Workspace\n",
        "ws = Workspace.from_config() \n",
        "print('Workspace name : '+ws.name,\n",
        "    '\\nAzure region : '+ws.location,\n",
        "    '\\nSubscription ID : '+ws.subscription_id,\n",
        "    '\\nResource group : '+ws.resource_group\n",
        ")"
      ],
      "outputs": [
        {
          "output_type": "stream",
          "name": "stdout",
          "text": "Workspace name : labuser91ml \nAzure region : eastus2 \nSubscription ID : 27db5ec6-d206-4028-b5e1-6004dca5eeef \nResource group : rg91\n"
        }
      ],
      "execution_count": 5,
      "metadata": {
        "gather": {
          "logged": 1683180763458
        }
      }
    },
    {
      "cell_type": "code",
      "source": [
        "# 실험공간을 준비\n",
        "from azureml.core import Experiment \n",
        "experiment = Experiment(workspace=ws,name='diabetes-experiment')"
      ],
      "outputs": [],
      "execution_count": 6,
      "metadata": {
        "jupyter": {
          "source_hidden": false,
          "outputs_hidden": false
        },
        "nteract": {
          "transient": {
            "deleting": false
          }
        },
        "gather": {
          "logged": 1683181037768
        }
      }
    },
    {
      "cell_type": "code",
      "source": [
        "#데이터를 준비한다.\n",
        "from azureml.opendatasets import Diabetes\n",
        "from sklearn.model_selection import train_test_split\n",
        "\n",
        "x_df=Diabetes.get_tabular_dataset().to_pandas_dataframe().dropna() #tabular : 테이블 형태의 데이터\n",
        "y_df=x_df.pop('Y') #Y값(label)을 추출하겠다\n",
        "\n",
        "X_train,X_test,y_train,y_test= train_test_split(x_df,y_df,test_size=0.2,random_state=66)\n",
        "\n",
        "print(X_train)"
      ],
      "outputs": [
        {
          "output_type": "stream",
          "name": "stdout",
          "text": "     AGE  SEX   BMI     BP   S1     S2    S3    S4      S5   S6\n440   36    1  30.0   95.0  201  125.2  42.0  4.79  5.1299   85\n389   47    2  26.5   70.0  181  104.8  63.0  3.00  4.1897   70\n5     23    1  22.6   89.0  139   64.8  61.0  2.00  4.1897   68\n289   28    2  31.5   83.0  228  149.4  38.0  6.00  5.3132   83\n101   53    2  22.2  113.0  197  115.2  67.0  3.00  4.3041  100\n..   ...  ...   ...    ...  ...    ...   ...   ...     ...  ...\n122   62    2  33.9  101.0  221  156.4  35.0  6.00  4.9972  103\n51    65    2  27.9  103.0  159   96.8  42.0  4.00  4.6151   86\n119   53    1  22.0   94.0  175   88.0  59.0  3.00  4.9416   98\n316   53    2  27.7   95.0  190  101.8  41.0  5.00  5.4638  101\n20    35    1  21.1   82.0  156   87.8  50.0  3.00  4.5109   95\n\n[353 rows x 10 columns]\n"
        }
      ],
      "execution_count": 13,
      "metadata": {
        "jupyter": {
          "source_hidden": false,
          "outputs_hidden": false
        },
        "nteract": {
          "transient": {
            "deleting": false
          }
        },
        "gather": {
          "logged": 1683182197327
        }
      }
    },
    {
      "cell_type": "code",
      "source": [
        "# 모델 훈련, 로그, 모델 파일 관리\n",
        "from sklearn.linear_model import Ridge\n",
        "from sklearn.metrics import mean_squared_error\n",
        "from sklearn.externals import joblib #학습시킨것을 file(.pkl)로 저장\n",
        "import math\n",
        "\n",
        "alphas=[0.1,0.2,0.3,0.4,0.5,0.6,0.7,0.8,0.9,1]\n",
        "\n",
        "for alpha in alphas:\n",
        "    \n",
        "    #실험의 기록\n",
        "    run=experiment.start_logging() \n",
        "    run.log('alpha_value',alpha) #실험단위로 log 남기기\n",
        "\n",
        "    model=Ridge(alpha=alpha)\n",
        "    model.fit(X_train,y_train)\n",
        "    y_pred = model.predict(X_test)\n",
        "    mse=mean_squared_error(y_test,y_pred)\n",
        "    rmse=math.sqrt(mean_squared_error(y_test,y_pred))\n",
        "\n",
        "    run.log('rmse',rmse) #실험단위로 log 남기기\n",
        "\n",
        "    print('model_alpha={0}, rmse={1}, mse={2}'.format(alpha,rmse,mse))\n",
        "\n",
        "    # 모델을 파일로 저장\n",
        "    model_name='model_alpha_'+str(alpha)+'.pkl'\n",
        "    filename='outputs/'+model_name #경로지정\n",
        "\n",
        "    joblib.dump(value=model,filename=filename) #모델 파일(.pkl)을 임시저장하기, dump() 저장명령\n",
        "\n",
        "    #Azure ML Service 에 모델 파일을 업로드 하는 부분\n",
        "    run.upload_file(name=model_name,path_or_stream=filename)\n",
        "\n",
        "    run.complete() #실험 종료\n",
        "\n",
        "    print(f'{alpha} experiment completed') #alpha 값에 해당되는 실험이 끝났다"
      ],
      "outputs": [
        {
          "output_type": "stream",
          "name": "stdout",
          "text": "model_alpha=0.1, rmse=56.60520331339142, mse=3204.149042150379\n0.1 experiment completed\nmodel_alpha=0.2, rmse=56.61060264545032, mse=3204.7603318810666\n0.2 experiment completed\nmodel_alpha=0.3, rmse=56.616243245483616, mse=3205.3989992317693\n0.3 experiment completed\nmodel_alpha=0.4, rmse=56.622107088710145, mse=3206.0630111653595\n0.4 experiment completed\nmodel_alpha=0.5, rmse=56.62817734275138, mse=3206.7504691621007\n0.5 experiment completed\nmodel_alpha=0.6, rmse=56.63443828302745, mse=3207.459599634045\n0.6 experiment completed\nmodel_alpha=0.7, rmse=56.64087521475942, mse=3208.188745093948\n0.7 experiment completed\nmodel_alpha=0.8, rmse=56.64747440101076, mse=3208.9363560131696\n0.8 experiment completed\nmodel_alpha=0.9, rmse=56.654222996253125, mse=3209.7009833091765\n0.9 experiment completed\nmodel_alpha=1, rmse=56.66110898499056, mse=3210.4812714089785\n1 experiment completed\n"
        }
      ],
      "execution_count": 19,
      "metadata": {
        "jupyter": {
          "source_hidden": false,
          "outputs_hidden": false
        },
        "nteract": {
          "transient": {
            "deleting": false
          }
        },
        "gather": {
          "logged": 1683185601210
        }
      }
    },
    {
      "cell_type": "code",
      "source": [
        "experiment #실험객체"
      ],
      "outputs": [
        {
          "output_type": "execute_result",
          "execution_count": 20,
          "data": {
            "text/plain": "Experiment(Name: diabetes-experiment,\nWorkspace: labuser91ml)",
            "text/html": "<table style=\"width:100%\"><tr><th>Name</th><th>Workspace</th><th>Report Page</th><th>Docs Page</th></tr><tr><td>diabetes-experiment</td><td>labuser91ml</td><td><a href=\"https://ml.azure.com/experiments/id/de4bc2a0-7f31-44e7-95e6-37c7d782aa46?wsid=/subscriptions/27db5ec6-d206-4028-b5e1-6004dca5eeef/resourcegroups/rg91/workspaces/labuser91ml&amp;tid=5fb256f0-fbf2-40d2-81d5-bac1b32c419d\" target=\"_blank\" rel=\"noopener\">Link to Azure Machine Learning studio</a></td><td><a href=\"https://docs.microsoft.com/en-us/python/api/azureml-core/azureml.core.experiment.Experiment?view=azure-ml-py\" target=\"_blank\" rel=\"noopener\">Link to Documentation</a></td></tr></table>"
          },
          "metadata": {}
        }
      ],
      "execution_count": 20,
      "metadata": {
        "jupyter": {
          "source_hidden": false,
          "outputs_hidden": false
        },
        "nteract": {
          "transient": {
            "deleting": false
          }
        },
        "gather": {
          "logged": 1683186333873
        }
      }
    },
    {
      "cell_type": "code",
      "source": [
        "#Best Model을 탐색 후 다운로드\n",
        "minimum_rmse=None\n",
        "minimum_rmse_runid=None \n",
        "\n",
        "for exp in experiment.get_runs(): #get_runs() experiment 아래 있는 값을 가져옴\n",
        "    run_metircs = exp.get_metrics() #지표값을 불러옴\n",
        "    run_details = exp.get_details()\n",
        "\n",
        "    run_rmse=run_metircs['rmse']\n",
        "    run_id=run_details['runId']\n",
        "\n",
        "    #가장 낮은 RMSE 값을 가진 실행ID를 구하는 부분\n",
        "    if minimum_rmse is None:\n",
        "        minimum_rmse=run_rmse\n",
        "        minimum_rmse_runid=run_id\n",
        "    else:\n",
        "        if run_rmse < minimum_rmse:\n",
        "            minimum_rmse=run_rmse\n",
        "            minimum_rmse_runid=run_id\n",
        "\n",
        "print(\"Best run_id: \"+minimum_rmse_runid)\n",
        "print(\"Best run_id rmse: \"+str(minimum_rmse))"
      ],
      "outputs": [
        {
          "output_type": "stream",
          "name": "stdout",
          "text": "Best run_id: a2aa9ee2-5434-4f9b-9850-8fd56c488cbf\nBest run_id rmse: 56.60520331339142\n"
        }
      ],
      "execution_count": 24,
      "metadata": {
        "jupyter": {
          "source_hidden": false,
          "outputs_hidden": false
        },
        "nteract": {
          "transient": {
            "deleting": false
          }
        },
        "gather": {
          "logged": 1683188164310
        }
      }
    },
    {
      "cell_type": "code",
      "source": [
        "from azureml.core import Run\n",
        "best_run = Run(experiment=experiment,run_id=minimum_rmse_runid)\n",
        "print(best_run.get_file_names())\n",
        "\n",
        "best_run.download_file(name=str(best_run.get_file_names()[0]))"
      ],
      "outputs": [
        {
          "output_type": "stream",
          "name": "stdout",
          "text": "['model_alpha_0.1.pkl', 'outputs/model_alpha_0.1.pkl']\n"
        }
      ],
      "execution_count": 27,
      "metadata": {
        "jupyter": {
          "source_hidden": false,
          "outputs_hidden": false
        },
        "nteract": {
          "transient": {
            "deleting": false
          }
        },
        "gather": {
          "logged": 1683188498457
        }
      }
    },
    {
      "cell_type": "code",
      "source": [],
      "outputs": [],
      "execution_count": null,
      "metadata": {
        "jupyter": {
          "source_hidden": false,
          "outputs_hidden": false
        },
        "nteract": {
          "transient": {
            "deleting": false
          }
        }
      }
    },
    {
      "cell_type": "code",
      "source": [],
      "outputs": [],
      "execution_count": null,
      "metadata": {
        "jupyter": {
          "source_hidden": false,
          "outputs_hidden": false
        },
        "nteract": {
          "transient": {
            "deleting": false
          }
        }
      }
    }
  ],
  "metadata": {
    "kernelspec": {
      "name": "python38-azureml",
      "language": "python",
      "display_name": "Python 3.8 - AzureML"
    },
    "language_info": {
      "name": "python",
      "version": "3.8.5",
      "mimetype": "text/x-python",
      "codemirror_mode": {
        "name": "ipython",
        "version": 3
      },
      "pygments_lexer": "ipython3",
      "nbconvert_exporter": "python",
      "file_extension": ".py"
    },
    "microsoft": {
      "ms_spell_check": {
        "ms_spell_check_language": "en"
      },
      "host": {
        "AzureML": {
          "notebookHasBeenCompleted": true
        }
      }
    },
    "kernel_info": {
      "name": "python38-azureml"
    },
    "nteract": {
      "version": "nteract-front-end@1.0.0"
    }
  },
  "nbformat": 4,
  "nbformat_minor": 2
}