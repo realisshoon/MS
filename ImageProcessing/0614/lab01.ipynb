{
 "cells": [
  {
   "cell_type": "code",
   "execution_count": 2,
   "id": "0ed37429",
   "metadata": {},
   "outputs": [],
   "source": [
    "from selenium import webdriver\n",
    "from selenium.webdriver.common.keys import Keys\n",
    "from selenium.webdriver.chrome.service import Service\n",
    "\n",
    "import time\n",
    "import os\n",
    "import urllib,requests"
   ]
  },
  {
   "cell_type": "code",
   "execution_count": 3,
   "id": "cc5b8103",
   "metadata": {},
   "outputs": [],
   "source": [
    "# only for mac user\n",
    "!chmod +x chromedriver"
   ]
  },
  {
   "cell_type": "code",
   "execution_count": 5,
   "id": "c4f2a638",
   "metadata": {},
   "outputs": [
    {
     "name": "stderr",
     "output_type": "stream",
     "text": [
      "/var/folders/47/8qsbvq8570n6fyh1nw5w71tc0000gp/T/ipykernel_86353/1799961189.py:8: DeprecationWarning: find_element_by_xpath is deprecated. Please use find_element(by=By.XPATH, value=xpath) instead\n",
      "  keyword=driver.find_element_by_xpath('/html/body/div[1]/div[3]/form/div[1]/div[1]/div[1]/div/div[2]/textarea')\n",
      "/var/folders/47/8qsbvq8570n6fyh1nw5w71tc0000gp/T/ipykernel_86353/1799961189.py:17: DeprecationWarning: find_element_by_xpath is deprecated. Please use find_element(by=By.XPATH, value=xpath) instead\n",
      "  driver.find_element_by_xpath('/html/body/div[1]/div[3]/form/div[1]/div[1]/div[1]/button').click()\n"
     ]
    },
    {
     "name": "stdout",
     "output_type": "stream",
     "text": [
      "apple 스크롤 내리는중\n"
     ]
    },
    {
     "name": "stderr",
     "output_type": "stream",
     "text": [
      "/var/folders/47/8qsbvq8570n6fyh1nw5w71tc0000gp/T/ipykernel_86353/1799961189.py:21: DeprecationWarning: find_element_by_tag_name is deprecated. Please use find_element(by=By.TAG_NAME, value=name) instead\n",
      "  elem=driver.find_element_by_tag_name('body')\n",
      "/var/folders/47/8qsbvq8570n6fyh1nw5w71tc0000gp/T/ipykernel_86353/1799961189.py:29: DeprecationWarning: find_element_by_xpath is deprecated. Please use find_element(by=By.XPATH, value=xpath) instead\n",
      "  driver.find_element_by_xpath('/html/body/div[2]/c-wiz/div[3]/div[1]/div/div/div/div[2]/div[1]/div[2]/div[2]/input')\n",
      "/var/folders/47/8qsbvq8570n6fyh1nw5w71tc0000gp/T/ipykernel_86353/1799961189.py:37: DeprecationWarning: find_elements_by_css_selector is deprecated. Please use find_elements(by=By.CSS_SELECTOR, value=css_selector) instead\n",
      "  images=driver.find_elements_by_css_selector('img.rg_i') ### find_element`s`_by_css_selector\n"
     ]
    },
    {
     "name": "stdout",
     "output_type": "stream",
     "text": [
      "찾은 이미지 개수 :  48\n",
      "1/48/apple/다운로드 시간 : 0.000 초 \n",
      "2/48/apple/다운로드 시간 : 0.000 초 \n",
      "3/48/apple/다운로드 시간 : 0.000 초 \n",
      "4/48/apple/다운로드 시간 : 0.000 초 \n",
      "5/48/apple/다운로드 시간 : 0.000 초 \n",
      "6/48/apple/다운로드 시간 : 0.000 초 \n",
      "7/48/apple/다운로드 시간 : 0.000 초 \n",
      "8/48/apple/다운로드 시간 : 0.000 초 \n",
      "9/48/apple/다운로드 시간 : 0.000 초 \n",
      "10/48/apple/다운로드 시간 : 0.000 초 \n",
      "11/48/apple/다운로드 시간 : 0.000 초 \n",
      "12/48/apple/다운로드 시간 : 0.000 초 \n",
      "13/48/apple/다운로드 시간 : 0.000 초 \n",
      "14/48/apple/다운로드 시간 : 0.000 초 \n",
      "15/48/apple/다운로드 시간 : 0.000 초 \n",
      "16/48/apple/다운로드 시간 : 0.000 초 \n",
      "17/48/apple/다운로드 시간 : 0.000 초 \n",
      "18/48/apple/다운로드 시간 : 0.000 초 \n",
      "19/48/apple/다운로드 시간 : 0.000 초 \n",
      "20/48/apple/다운로드 시간 : 0.000 초 \n",
      "21/48/apple/다운로드 시간 : 0.180 초 \n",
      "22/48/apple/다운로드 시간 : 0.168 초 \n",
      "23/48/apple/다운로드 시간 : 0.228 초 \n",
      "24/48/apple/다운로드 시간 : 0.164 초 \n",
      "25/48/apple/다운로드 시간 : 0.163 초 \n",
      "26/48/apple/다운로드 시간 : 0.161 초 \n",
      "27/48/apple/다운로드 시간 : 0.165 초 \n",
      "28/48/apple/다운로드 시간 : 0.159 초 \n",
      "29/48/apple/다운로드 시간 : 0.164 초 \n",
      "30/48/apple/다운로드 시간 : 0.165 초 \n",
      "31/48/apple/다운로드 시간 : 0.232 초 \n",
      "32/48/apple/다운로드 시간 : 0.161 초 \n",
      "33/48/apple/다운로드 시간 : 0.162 초 \n",
      "34/48/apple/다운로드 시간 : 0.160 초 \n",
      "35/48/apple/다운로드 시간 : 0.169 초 \n",
      "36/48/apple/다운로드 시간 : 0.227 초 \n",
      "37/48/apple/다운로드 시간 : 0.162 초 \n",
      "38/48/apple/다운로드 시간 : 0.228 초 \n",
      "39/48/apple/다운로드 시간 : 0.160 초 \n",
      "40/48/apple/다운로드 시간 : 0.158 초 \n",
      "41/48/apple/다운로드 시간 : 0.159 초 \n",
      "42/48/apple/다운로드 시간 : 0.162 초 \n",
      "43/48/apple/다운로드 시간 : 0.168 초 \n",
      "44/48/apple/다운로드 시간 : 0.286 초 \n",
      "45/48/apple/다운로드 시간 : 0.158 초 \n",
      "46/48/apple/다운로드 시간 : 0.232 초 \n",
      "47/48/apple/다운로드 시간 : 0.160 초 \n",
      "48/48/apple/다운로드 시간 : 0.167 초 \n",
      "다운로드 완료\n"
     ]
    }
   ],
   "source": [
    "# 1. query 선언 / chromedriver 실행\n",
    "query='apple'\n",
    "service=Service('./chromedriver')\n",
    "driver=webdriver.Chrome(service=service)\n",
    "\n",
    "# 2. query 검색창에 추가\n",
    "driver.get('https://www.google.co.kr/imghp?h1=ko')\n",
    "keyword=driver.find_element_by_xpath('/html/body/div[1]/div[3]/form/div[1]/div[1]/div[1]/div/div[2]/textarea')\n",
    "keyword.send_keys(query)\n",
    "### 검색칸에 대한 xpath\n",
    "# /html/body/div[1]/div[3]/form/div[1]/div[1]/div[1]/div/div[2]/textarea\n",
    "\n",
    "### 검색 button 에 대한 xpath\n",
    "# /html/body/div[1]/div[3]/form/div[1]/div[1]/div[1]/button\n",
    "\n",
    "# 3. 검색창에 입력어 들어오면 검색 실행\n",
    "driver.find_element_by_xpath('/html/body/div[1]/div[3]/form/div[1]/div[1]/div[1]/button').click()\n",
    "\n",
    "# 4. 스크롤 자동 내리기, 더보기 버튼 나오면 클릭하기\n",
    "print(f'{query} 스크롤 내리는중')\n",
    "elem=driver.find_element_by_tag_name('body')\n",
    "for i in range(60):\n",
    "    elem.send_keys(Keys.PAGE_DOWN)\n",
    "    time.sleep(0.1)\n",
    "\n",
    "### 결과 더보기 button 에 대한 xpath\n",
    "# /html/body/div[2]/c-wiz/div[3]/div[1]/div/div/div/div[2]/div[1]/div[2]/div[2]/input\n",
    "try:\n",
    "    driver.find_element_by_xpath('/html/body/div[2]/c-wiz/div[3]/div[1]/div/div/div/div[2]/div[1]/div[2]/div[2]/input')\n",
    "    for i in range(60):\n",
    "        elem.send_keys(Keys.PAGE_DOWN)\n",
    "        time.sleep(0.1)\n",
    "except:\n",
    "    pass\n",
    "# 5. 이미지 개수 파악하기\n",
    "links=[]\n",
    "images=driver.find_elements_by_css_selector('img.rg_i') ### find_element`s`_by_css_selector\n",
    "\n",
    "for image in images:\n",
    "    if image.get_attribute('data-src') != None:\n",
    "        links.append(image.get_attribute('data-src'))\n",
    "    elif image.get_attribute('data-iurl')!=None:\n",
    "        links.append(image.get_attribute('data-iurl'))\n",
    "    elif image.get_attribute('src') != None:\n",
    "        links.append(image.get_attribute('src'))\n",
    "print(\"찾은 이미지 개수 : \", len(links))\n",
    "\n",
    "# 6. 이미지 다운로드\n",
    "count=0\n",
    "for i in links:\n",
    "    start=time.time()\n",
    "    url=i\n",
    "    os.makedirs('./image_data',exist_ok=True)\n",
    "    \n",
    "    while True:\n",
    "        try:\n",
    "            urllib.request.urlretrieve(url,f'./image_data/{str(count)}_apple.png')\n",
    "            print(f'{str(count+1)}/{str(len(links))}/{query}/다운로드 시간 : {str(time.time()-start)[:5]} 초 ')\n",
    "            break\n",
    "        except urllib.error.HTTPError as e :\n",
    "            print(f'HTTPError 발생 {e} : 재시도 중 ...')\n",
    "            time.sleep(5)\n",
    "        except Exception as e:\n",
    "            print(f'Error 발생 {e} : 재시도 중 ...')\n",
    "            time.sleep(5)\n",
    "        if time.time() - start >60:\n",
    "            print('이미지 다운로드 실패...')\n",
    "            break\n",
    "    count=count+1\n",
    "\n",
    "print('다운로드 완료')\n",
    "driver.close()\n",
    "# driver.implicitly_wait(3)"
   ]
  },
  {
   "cell_type": "markdown",
   "id": "ac9d5835",
   "metadata": {},
   "source": [
    "# 이미지 폴더에 있는 파일 가져오기 (os.listdir)"
   ]
  },
  {
   "cell_type": "code",
   "execution_count": 4,
   "id": "de8024b7",
   "metadata": {},
   "outputs": [
    {
     "name": "stdout",
     "output_type": "stream",
     "text": [
      "['40_human.png', '4_human.png', '37_human.png', '9_human.png', '23_human.png', '16_human.png', '46_human.png', '28_human.png', '2_human.png', '10_human.png', '31_human.png', '25_human.png', '5_human.png', '41_human.png', '8_human.png', '22_human.png', '36_human.png', '17_human.png', '29_human.png', '3_human.png', '47_human.png', '11_human.png', '24_human.png', '30_human.png', '19_human.png', '42_human.png', '38_human.png', '6_human.png', '14_human.png', '35_human.png', '21_human.png', '44_human.png', '0_human.png', '33_human.png', '27_human.png', '12_human.png', '18_human.png', '7_human.png', '43_human.png', '39_human.png', '15_human.png', '20_human.png', '34_human.png', '1_human.png', '45_human.png', '26_human.png', '32_human.png', '13_human.png']\n"
     ]
    }
   ],
   "source": [
    "import os\n",
    "\n",
    "# 이미지가 저장되어 있는 폴더 경로\n",
    "img_dir='./image_data/'\n",
    "\n",
    "# 디렉토리 내 모든 파일 목록 가져오기\n",
    "file_list=os.listdir(img_dir)\n",
    "print(file_list)\n",
    "\n",
    "## 정렬이 되지 않음"
   ]
  },
  {
   "cell_type": "markdown",
   "id": "7760da13",
   "metadata": {},
   "source": [
    "# os.listdir -> 정렬하기"
   ]
  },
  {
   "cell_type": "code",
   "execution_count": 18,
   "id": "eba85b7d",
   "metadata": {},
   "outputs": [
    {
     "name": "stdout",
     "output_type": "stream",
     "text": [
      "['0_human.png', '10_human.png', '11_human.png', '12_human.png', '13_human.png', '14_human.png', '15_human.png', '16_human.png', '17_human.png', '18_human.png', '19_human.png', '1_human.png', '20_human.png', '21_human.png', '22_human.png', '23_human.png', '24_human.png', '25_human.png', '26_human.png', '27_human.png', '28_human.png', '29_human.png', '2_human.png', '30_human.png', '31_human.png', '32_human.png', '33_human.png', '34_human.png', '35_human.png', '36_human.png', '37_human.png', '38_human.png', '39_human.png', '3_human.png', '40_human.png', '41_human.png', '42_human.png', '43_human.png', '44_human.png', '45_human.png', '46_human.png', '47_human.png', '4_human.png', '5_human.png', '6_human.png', '7_human.png', '8_human.png', '9_human.png']\n"
     ]
    }
   ],
   "source": [
    "import os\n",
    "\n",
    "img_dir='./image_data/'\n",
    "\n",
    "#디렉토리 내 모든 파일 목록 가져오기\n",
    "file_list_temp=sorted(os.listdir(img_dir))\n",
    "print(file_list_temp)"
   ]
  },
  {
   "cell_type": "code",
   "execution_count": 8,
   "id": "583918c3",
   "metadata": {},
   "outputs": [
    {
     "name": "stdout",
     "output_type": "stream",
     "text": [
      "Collecting natsort\n",
      "  Downloading natsort-8.3.1-py3-none-any.whl (38 kB)\n",
      "Installing collected packages: natsort\n",
      "Successfully installed natsort-8.3.1\n"
     ]
    }
   ],
   "source": [
    "!pip install natsort"
   ]
  },
  {
   "cell_type": "code",
   "execution_count": 13,
   "id": "21789c01",
   "metadata": {},
   "outputs": [
    {
     "name": "stdout",
     "output_type": "stream",
     "text": [
      "['0_human.png', '1_human.png', '2_human.png', '3_human.png', '4_human.png', '5_human.png', '6_human.png', '7_human.png', '8_human.png', '9_human.png', '10_human.png', '11_human.png', '12_human.png', '13_human.png', '14_human.png', '15_human.png', '16_human.png', '17_human.png', '18_human.png', '19_human.png', '20_human.png', '21_human.png', '22_human.png', '23_human.png', '24_human.png', '25_human.png', '26_human.png', '27_human.png', '28_human.png', '29_human.png', '30_human.png', '31_human.png', '32_human.png', '33_human.png', '34_human.png', '35_human.png', '36_human.png', '37_human.png', '38_human.png', '39_human.png', '40_human.png', '41_human.png', '42_human.png', '43_human.png', '44_human.png', '45_human.png', '46_human.png', '47_human.png']\n"
     ]
    }
   ],
   "source": [
    "from natsort import natsort\n",
    "\n",
    "img_dir='./image_data/'\n",
    "file_list_temp01=natsort.natsorted(os.listdir(img_dir))\n",
    "print(file_list_temp01)"
   ]
  },
  {
   "cell_type": "markdown",
   "id": "df962fc9",
   "metadata": {},
   "source": [
    "# glob.glob"
   ]
  },
  {
   "cell_type": "code",
   "execution_count": 20,
   "id": "a4b75d1c",
   "metadata": {},
   "outputs": [
    {
     "name": "stdout",
     "output_type": "stream",
     "text": [
      "['./image_data/0_human.png', './image_data/1_human.png', './image_data/2_human.png', './image_data/3_human.png', './image_data/4_human.png', './image_data/5_human.png', './image_data/6_human.png', './image_data/7_human.png', './image_data/8_human.png', './image_data/9_human.png', './image_data/10_human.png', './image_data/11_human.png', './image_data/12_human.png', './image_data/13_human.png', './image_data/14_human.png', './image_data/15_human.png', './image_data/16_human.png', './image_data/17_human.png', './image_data/18_human.png', './image_data/19_human.png', './image_data/20_human.png', './image_data/21_human.png', './image_data/22_human.png', './image_data/23_human.png', './image_data/24_human.png', './image_data/25_human.png', './image_data/26_human.png', './image_data/27_human.png', './image_data/28_human.png', './image_data/29_human.png', './image_data/30_human.png', './image_data/31_human.png', './image_data/32_human.png', './image_data/33_human.png', './image_data/34_human.png', './image_data/35_human.png', './image_data/36_human.png', './image_data/37_human.png', './image_data/38_human.png', './image_data/39_human.png', './image_data/40_human.png', './image_data/41_human.png', './image_data/42_human.png', './image_data/43_human.png', './image_data/44_human.png', './image_data/45_human.png', './image_data/46_human.png', './image_data/47_human.png']\n"
     ]
    }
   ],
   "source": [
    "import glob\n",
    "import os\n",
    "\n",
    "\n",
    "\"\"\"\n",
    "폴더 구조\n",
    "train\n",
    "    images\n",
    "        apple\n",
    "            - aaa.png\n",
    "        bon\n",
    "            - bbb.png\n",
    "\n",
    "\"./train/images/*/*\" ### images에 하위 파일 전부 불러옴\n",
    "\n",
    "file_list_temp\n",
    "[`./train/images/apple/aaa.png`,`./train/images/bon/bbb.png`]\n",
    "\"\"\"\n",
    "### user에게 path값을 받기 수월함\n",
    "# image_path='./image_data/*.png'      \n",
    "# file_list_temp=glob.glob(image_path)\n",
    "\n",
    "file_list_temp=natsort.natsorted(glob.glob(os.path.join('./image_data/','*.png')))\n",
    "print(file_list_temp)"
   ]
  },
  {
   "cell_type": "markdown",
   "id": "91b5b61e",
   "metadata": {},
   "source": [
    "# os.walk"
   ]
  },
  {
   "cell_type": "code",
   "execution_count": 28,
   "id": "01279a1f",
   "metadata": {},
   "outputs": [
    {
     "name": "stdout",
     "output_type": "stream",
     "text": [
      "path ./image_data/\n",
      "dir ['.ipynb_checkpoints']\n",
      "files ['40_human.png', '4_human.png', '37_human.png', '9_human.png', '23_human.png', '16_human.png', '46_human.png', '28_human.png', '2_human.png', '10_human.png', '31_human.png', '25_human.png', '5_human.png', '41_human.png', '8_human.png', '22_human.png', '36_human.png', '17_human.png', '29_human.png', '3_human.png', '47_human.png', '11_human.png', '24_human.png', '30_human.png', '19_human.png', '42_human.png', '38_human.png', '6_human.png', '14_human.png', '35_human.png', '21_human.png', '44_human.png', '0_human.png', '33_human.png', '27_human.png', '12_human.png', '18_human.png', '7_human.png', '43_human.png', '39_human.png', '15_human.png', '20_human.png', '34_human.png', '1_human.png', '45_human.png', '26_human.png', '32_human.png', '13_human.png']\n",
      "ext .png\n",
      "file_path>>  ./image_data/40_human.png\n",
      "ext .png\n",
      "file_path>>  ./image_data/4_human.png\n",
      "ext .png\n",
      "file_path>>  ./image_data/37_human.png\n",
      "ext .png\n",
      "file_path>>  ./image_data/9_human.png\n",
      "ext .png\n",
      "file_path>>  ./image_data/23_human.png\n",
      "ext .png\n",
      "file_path>>  ./image_data/16_human.png\n",
      "ext .png\n",
      "file_path>>  ./image_data/46_human.png\n",
      "ext .png\n",
      "file_path>>  ./image_data/28_human.png\n",
      "ext .png\n",
      "file_path>>  ./image_data/2_human.png\n",
      "ext .png\n",
      "file_path>>  ./image_data/10_human.png\n",
      "ext .png\n",
      "file_path>>  ./image_data/31_human.png\n",
      "ext .png\n",
      "file_path>>  ./image_data/25_human.png\n",
      "ext .png\n",
      "file_path>>  ./image_data/5_human.png\n",
      "ext .png\n",
      "file_path>>  ./image_data/41_human.png\n",
      "ext .png\n",
      "file_path>>  ./image_data/8_human.png\n",
      "ext .png\n",
      "file_path>>  ./image_data/22_human.png\n",
      "ext .png\n",
      "file_path>>  ./image_data/36_human.png\n",
      "ext .png\n",
      "file_path>>  ./image_data/17_human.png\n",
      "ext .png\n",
      "file_path>>  ./image_data/29_human.png\n",
      "ext .png\n",
      "file_path>>  ./image_data/3_human.png\n",
      "ext .png\n",
      "file_path>>  ./image_data/47_human.png\n",
      "ext .png\n",
      "file_path>>  ./image_data/11_human.png\n",
      "ext .png\n",
      "file_path>>  ./image_data/24_human.png\n",
      "ext .png\n",
      "file_path>>  ./image_data/30_human.png\n",
      "ext .png\n",
      "file_path>>  ./image_data/19_human.png\n",
      "ext .png\n",
      "file_path>>  ./image_data/42_human.png\n",
      "ext .png\n",
      "file_path>>  ./image_data/38_human.png\n",
      "ext .png\n",
      "file_path>>  ./image_data/6_human.png\n",
      "ext .png\n",
      "file_path>>  ./image_data/14_human.png\n",
      "ext .png\n",
      "file_path>>  ./image_data/35_human.png\n",
      "ext .png\n",
      "file_path>>  ./image_data/21_human.png\n",
      "ext .png\n",
      "file_path>>  ./image_data/44_human.png\n",
      "ext .png\n",
      "file_path>>  ./image_data/0_human.png\n",
      "ext .png\n",
      "file_path>>  ./image_data/33_human.png\n",
      "ext .png\n",
      "file_path>>  ./image_data/27_human.png\n",
      "ext .png\n",
      "file_path>>  ./image_data/12_human.png\n",
      "ext .png\n",
      "file_path>>  ./image_data/18_human.png\n",
      "ext .png\n",
      "file_path>>  ./image_data/7_human.png\n",
      "ext .png\n",
      "file_path>>  ./image_data/43_human.png\n",
      "ext .png\n",
      "file_path>>  ./image_data/39_human.png\n",
      "ext .png\n",
      "file_path>>  ./image_data/15_human.png\n",
      "ext .png\n",
      "file_path>>  ./image_data/20_human.png\n",
      "ext .png\n",
      "file_path>>  ./image_data/34_human.png\n",
      "ext .png\n",
      "file_path>>  ./image_data/1_human.png\n",
      "ext .png\n",
      "file_path>>  ./image_data/45_human.png\n",
      "ext .png\n",
      "file_path>>  ./image_data/26_human.png\n",
      "ext .png\n",
      "file_path>>  ./image_data/32_human.png\n",
      "ext .png\n",
      "file_path>>  ./image_data/13_human.png\n",
      "path ./image_data/.ipynb_checkpoints\n",
      "dir []\n",
      "files []\n",
      "['./image_data/40_human.png', './image_data/4_human.png', './image_data/37_human.png', './image_data/9_human.png', './image_data/23_human.png', './image_data/16_human.png', './image_data/46_human.png', './image_data/28_human.png', './image_data/2_human.png', './image_data/10_human.png', './image_data/31_human.png', './image_data/25_human.png', './image_data/5_human.png', './image_data/41_human.png', './image_data/8_human.png', './image_data/22_human.png', './image_data/36_human.png', './image_data/17_human.png', './image_data/29_human.png', './image_data/3_human.png', './image_data/47_human.png', './image_data/11_human.png', './image_data/24_human.png', './image_data/30_human.png', './image_data/19_human.png', './image_data/42_human.png', './image_data/38_human.png', './image_data/6_human.png', './image_data/14_human.png', './image_data/35_human.png', './image_data/21_human.png', './image_data/44_human.png', './image_data/0_human.png', './image_data/33_human.png', './image_data/27_human.png', './image_data/12_human.png', './image_data/18_human.png', './image_data/7_human.png', './image_data/43_human.png', './image_data/39_human.png', './image_data/15_human.png', './image_data/20_human.png', './image_data/34_human.png', './image_data/1_human.png', './image_data/45_human.png', './image_data/26_human.png', './image_data/32_human.png', './image_data/13_human.png']\n",
      "./image_data/40_human.png\n",
      "./image_data/4_human.png\n",
      "./image_data/37_human.png\n",
      "./image_data/9_human.png\n",
      "./image_data/23_human.png\n",
      "./image_data/16_human.png\n",
      "./image_data/46_human.png\n",
      "./image_data/28_human.png\n",
      "./image_data/2_human.png\n",
      "./image_data/10_human.png\n",
      "./image_data/31_human.png\n",
      "./image_data/25_human.png\n",
      "./image_data/5_human.png\n",
      "./image_data/41_human.png\n",
      "./image_data/8_human.png\n",
      "./image_data/22_human.png\n",
      "./image_data/36_human.png\n",
      "./image_data/17_human.png\n",
      "./image_data/29_human.png\n",
      "./image_data/3_human.png\n",
      "./image_data/47_human.png\n",
      "./image_data/11_human.png\n",
      "./image_data/24_human.png\n",
      "./image_data/30_human.png\n",
      "./image_data/19_human.png\n",
      "./image_data/42_human.png\n",
      "./image_data/38_human.png\n",
      "./image_data/6_human.png\n",
      "./image_data/14_human.png\n",
      "./image_data/35_human.png\n",
      "./image_data/21_human.png\n",
      "./image_data/44_human.png\n",
      "./image_data/0_human.png\n",
      "./image_data/33_human.png\n",
      "./image_data/27_human.png\n",
      "./image_data/12_human.png\n",
      "./image_data/18_human.png\n",
      "./image_data/7_human.png\n",
      "./image_data/43_human.png\n",
      "./image_data/39_human.png\n",
      "./image_data/15_human.png\n",
      "./image_data/20_human.png\n",
      "./image_data/34_human.png\n",
      "./image_data/1_human.png\n",
      "./image_data/45_human.png\n",
      "./image_data/26_human.png\n",
      "./image_data/32_human.png\n",
      "./image_data/13_human.png\n"
     ]
    }
   ],
   "source": [
    "def get_img_path(root_path):\n",
    "    file_paths=[]\n",
    "    for (path,dir,files) in os.walk(root_path):\n",
    "        print('path',path)\n",
    "        print('dir',dir)\n",
    "        print('files',files)\n",
    "        for file in files:\n",
    "            ext=os.path.splitext(file)[-1].lower()\n",
    "            print(\"ext\",ext)\n",
    "            formats_list=['.bmp','.jpeg','.png','.jpg','.tif','.gif','.tiff','.dng']\n",
    "            if ext in formats_list:\n",
    "                \n",
    "                file_path=os.path.join(path,file)\n",
    "                print('file_path>> ',file_path)\n",
    "                file_paths.append(file_path)\n",
    "        \n",
    "    return file_paths\n",
    "\n",
    "file_paths_temp= get_img_path('./image_data/')\n",
    "print(file_paths_temp)\n",
    "\n",
    "for i in file_paths_temp:\n",
    "    print(i)"
   ]
  },
  {
   "cell_type": "code",
   "execution_count": null,
   "id": "3b8ab4cb",
   "metadata": {},
   "outputs": [],
   "source": []
  }
 ],
 "metadata": {
  "kernelspec": {
   "display_name": "Python 3 (ipykernel)",
   "language": "python",
   "name": "python3"
  },
  "language_info": {
   "codemirror_mode": {
    "name": "ipython",
    "version": 3
   },
   "file_extension": ".py",
   "mimetype": "text/x-python",
   "name": "python",
   "nbconvert_exporter": "python",
   "pygments_lexer": "ipython3",
   "version": "3.11.3"
  }
 },
 "nbformat": 4,
 "nbformat_minor": 5
}
