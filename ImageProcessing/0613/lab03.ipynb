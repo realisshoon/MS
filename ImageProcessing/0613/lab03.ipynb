{
 "cells": [
  {
   "cell_type": "markdown",
   "id": "9a64b047",
   "metadata": {},
   "source": [
    "### Selenium 설치"
   ]
  },
  {
   "cell_type": "code",
   "execution_count": 2,
   "id": "c6a657f6",
   "metadata": {},
   "outputs": [
    {
     "name": "stdout",
     "output_type": "stream",
     "text": [
      "Collecting selenium==4.2.0\n",
      "  Downloading selenium-4.2.0-py3-none-any.whl (983 kB)\n",
      "\u001b[2K     \u001b[38;2;114;156;31m━━━━━━━━━━━━━━━━━━━━━━━━━━━━━━━━━━━━━━━\u001b[0m \u001b[32m983.2/983.2 kB\u001b[0m \u001b[31m5.0 MB/s\u001b[0m eta \u001b[36m0:00:00\u001b[0m MB/s\u001b[0m eta \u001b[36m0:00:01\u001b[0m:01\u001b[0m\n",
      "\u001b[?25hRequirement already satisfied: urllib3[secure,socks]~=1.26 in /Users/iamseungman/opt/anaconda3/envs/AI/lib/python3.11/site-packages (from selenium==4.2.0) (1.26.15)\n",
      "Collecting trio~=0.17\n",
      "  Downloading trio-0.22.0-py3-none-any.whl (384 kB)\n",
      "\u001b[2K     \u001b[38;2;114;156;31m━━━━━━━━━━━━━━━━━━━━━━━━━━━━━━━━━━━━━━━\u001b[0m \u001b[32m384.9/384.9 kB\u001b[0m \u001b[31m5.9 MB/s\u001b[0m eta \u001b[36m0:00:00\u001b[0m[31m6.7 MB/s\u001b[0m eta \u001b[36m0:00:01\u001b[0m\n",
      "\u001b[?25hCollecting trio-websocket~=0.9\n",
      "  Downloading trio_websocket-0.10.3-py3-none-any.whl (17 kB)\n",
      "Requirement already satisfied: attrs>=19.2.0 in /Users/iamseungman/opt/anaconda3/envs/AI/lib/python3.11/site-packages (from trio~=0.17->selenium==4.2.0) (23.1.0)\n",
      "Collecting sortedcontainers\n",
      "  Downloading sortedcontainers-2.4.0-py2.py3-none-any.whl (29 kB)\n",
      "Collecting async-generator>=1.9\n",
      "  Using cached async_generator-1.10-py3-none-any.whl (18 kB)\n",
      "Requirement already satisfied: idna in /Users/iamseungman/opt/anaconda3/envs/AI/lib/python3.11/site-packages (from trio~=0.17->selenium==4.2.0) (3.4)\n",
      "Collecting outcome\n",
      "  Downloading outcome-1.2.0-py2.py3-none-any.whl (9.7 kB)\n",
      "Requirement already satisfied: sniffio in /Users/iamseungman/opt/anaconda3/envs/AI/lib/python3.11/site-packages (from trio~=0.17->selenium==4.2.0) (1.3.0)\n",
      "Collecting exceptiongroup\n",
      "  Downloading exceptiongroup-1.1.1-py3-none-any.whl (14 kB)\n",
      "Collecting wsproto>=0.14\n",
      "  Downloading wsproto-1.2.0-py3-none-any.whl (24 kB)\n",
      "Requirement already satisfied: pyOpenSSL>=0.14 in /Users/iamseungman/opt/anaconda3/envs/AI/lib/python3.11/site-packages (from urllib3[secure,socks]~=1.26->selenium==4.2.0) (23.0.0)\n",
      "Requirement already satisfied: cryptography>=1.3.4 in /Users/iamseungman/opt/anaconda3/envs/AI/lib/python3.11/site-packages (from urllib3[secure,socks]~=1.26->selenium==4.2.0) (39.0.1)\n",
      "Requirement already satisfied: certifi in /Users/iamseungman/opt/anaconda3/envs/AI/lib/python3.11/site-packages (from urllib3[secure,socks]~=1.26->selenium==4.2.0) (2023.5.7)\n",
      "Collecting urllib3-secure-extra\n",
      "  Downloading urllib3_secure_extra-0.1.0-py2.py3-none-any.whl (1.4 kB)\n",
      "Requirement already satisfied: PySocks!=1.5.7,<2.0,>=1.5.6 in /Users/iamseungman/opt/anaconda3/envs/AI/lib/python3.11/site-packages (from urllib3[secure,socks]~=1.26->selenium==4.2.0) (1.7.1)\n",
      "Requirement already satisfied: cffi>=1.12 in /Users/iamseungman/opt/anaconda3/envs/AI/lib/python3.11/site-packages (from cryptography>=1.3.4->urllib3[secure,socks]~=1.26->selenium==4.2.0) (1.15.1)\n",
      "Collecting h11<1,>=0.9.0\n",
      "  Downloading h11-0.14.0-py3-none-any.whl (58 kB)\n",
      "\u001b[2K     \u001b[38;2;114;156;31m━━━━━━━━━━━━━━━━━━━━━━━━━━━━━━━━━━━━━━━━\u001b[0m \u001b[32m58.3/58.3 kB\u001b[0m \u001b[31m2.0 MB/s\u001b[0m eta \u001b[36m0:00:00\u001b[0m\n",
      "\u001b[?25hRequirement already satisfied: pycparser in /Users/iamseungman/opt/anaconda3/envs/AI/lib/python3.11/site-packages (from cffi>=1.12->cryptography>=1.3.4->urllib3[secure,socks]~=1.26->selenium==4.2.0) (2.21)\n",
      "Installing collected packages: urllib3-secure-extra, sortedcontainers, outcome, h11, exceptiongroup, async-generator, wsproto, trio, trio-websocket, selenium\n",
      "Successfully installed async-generator-1.10 exceptiongroup-1.1.1 h11-0.14.0 outcome-1.2.0 selenium-4.2.0 sortedcontainers-2.4.0 trio-0.22.0 trio-websocket-0.10.3 urllib3-secure-extra-0.1.0 wsproto-1.2.0\n"
     ]
    }
   ],
   "source": [
    "!pip install selenium==4.2.0"
   ]
  },
  {
   "cell_type": "code",
   "execution_count": 2,
   "id": "8cbe1dea",
   "metadata": {},
   "outputs": [],
   "source": [
    "from selenium import webdriver\n",
    "from selenium.webdriver.common.keys import Keys\n",
    "from selenium.webdriver.chrome.service import Service\n",
    "\n",
    "import time\n",
    "import os\n",
    "import urllib,requests"
   ]
  },
  {
   "cell_type": "code",
   "execution_count": 3,
   "id": "8b522b3e",
   "metadata": {},
   "outputs": [],
   "source": [
    "# only for mac user\n",
    "!chmod +x chromedriver"
   ]
  },
  {
   "cell_type": "code",
   "execution_count": 4,
   "id": "0505308a",
   "metadata": {},
   "outputs": [
    {
     "name": "stderr",
     "output_type": "stream",
     "text": [
      "/var/folders/47/8qsbvq8570n6fyh1nw5w71tc0000gp/T/ipykernel_75595/1986938854.py:8: DeprecationWarning: find_element_by_xpath is deprecated. Please use find_element(by=By.XPATH, value=xpath) instead\n",
      "  keyword=driver.find_element_by_xpath('/html/body/div[1]/div[3]/form/div[1]/div[1]/div[1]/div/div[2]/textarea')\n",
      "/var/folders/47/8qsbvq8570n6fyh1nw5w71tc0000gp/T/ipykernel_75595/1986938854.py:17: DeprecationWarning: find_element_by_xpath is deprecated. Please use find_element(by=By.XPATH, value=xpath) instead\n",
      "  driver.find_element_by_xpath('/html/body/div[1]/div[3]/form/div[1]/div[1]/div[1]/button').click()\n"
     ]
    },
    {
     "name": "stdout",
     "output_type": "stream",
     "text": [
      "apple 스크롤 내리는중\n"
     ]
    },
    {
     "name": "stderr",
     "output_type": "stream",
     "text": [
      "/var/folders/47/8qsbvq8570n6fyh1nw5w71tc0000gp/T/ipykernel_75595/1986938854.py:21: DeprecationWarning: find_element_by_tag_name is deprecated. Please use find_element(by=By.TAG_NAME, value=name) instead\n",
      "  elem=driver.find_element_by_tag_name('body')\n",
      "/var/folders/47/8qsbvq8570n6fyh1nw5w71tc0000gp/T/ipykernel_75595/1986938854.py:29: DeprecationWarning: find_element_by_xpath is deprecated. Please use find_element(by=By.XPATH, value=xpath) instead\n",
      "  driver.find_element_by_xpath('/html/body/div[2]/c-wiz/div[3]/div[1]/div/div/div/div[2]/div[1]/div[2]/div[2]/input')\n",
      "/var/folders/47/8qsbvq8570n6fyh1nw5w71tc0000gp/T/ipykernel_75595/1986938854.py:37: DeprecationWarning: find_elements_by_css_selector is deprecated. Please use find_elements(by=By.CSS_SELECTOR, value=css_selector) instead\n",
      "  images=driver.find_elements_by_css_selector('img.rg_i') ### find_element`s`_by_css_selector\n"
     ]
    },
    {
     "name": "stdout",
     "output_type": "stream",
     "text": [
      "찾은 이미지 개수 :  271\n"
     ]
    },
    {
     "ename": "NameError",
     "evalue": "name 'By' is not defined",
     "output_type": "error",
     "traceback": [
      "\u001b[0;31m---------------------------------------------------------------------------\u001b[0m",
      "\u001b[0;31mNameError\u001b[0m                                 Traceback (most recent call last)",
      "Cell \u001b[0;32mIn[4], line 54\u001b[0m\n\u001b[1;32m     51\u001b[0m start\u001b[38;5;241m=\u001b[39mtime\u001b[38;5;241m.\u001b[39mtime()\n\u001b[1;32m     52\u001b[0m url\u001b[38;5;241m=\u001b[39mi\n\u001b[0;32m---> 54\u001b[0m img_temp\u001b[38;5;241m=\u001b[39mdriver\u001b[38;5;241m.\u001b[39mfind_elements(\u001b[43mBy\u001b[49m\u001b[38;5;241m.\u001b[39mCSS_SELECTOR,value\u001b[38;5;241m=\u001b[39m\u001b[38;5;124m'\u001b[39m\u001b[38;5;124mrg_i.Q4LuWd\u001b[39m\u001b[38;5;124m'\u001b[39m)\n\u001b[1;32m     55\u001b[0m img_temp\u001b[38;5;241m.\u001b[39mclick()\n\u001b[1;32m     56\u001b[0m time\u001b[38;5;241m.\u001b[39msleep(\u001b[38;5;241m0.3\u001b[39m)\n",
      "\u001b[0;31mNameError\u001b[0m: name 'By' is not defined"
     ]
    }
   ],
   "source": [
    "# 1. query 선언 / chromedriver 실행\n",
    "query='apple'\n",
    "service=Service('./chromedriver')\n",
    "driver=webdriver.Chrome(service=service)\n",
    "\n",
    "# 2. query 검색창에 추가\n",
    "driver.get('https://www.google.co.kr/imghp?h1=ko')\n",
    "keyword=driver.find_element_by_xpath('/html/body/div[1]/div[3]/form/div[1]/div[1]/div[1]/div/div[2]/textarea')\n",
    "keyword.send_keys(query)\n",
    "### 검색칸에 대한 xpath\n",
    "# /html/body/div[1]/div[3]/form/div[1]/div[1]/div[1]/div/div[2]/textarea\n",
    "\n",
    "### 검색 button 에 대한 xpath\n",
    "# /html/body/div[1]/div[3]/form/div[1]/div[1]/div[1]/button\n",
    "\n",
    "# 3. 검색창에 입력어 들어오면 검색 실행\n",
    "driver.find_element_by_xpath('/html/body/div[1]/div[3]/form/div[1]/div[1]/div[1]/button').click()\n",
    "\n",
    "# 4. 스크롤 자동 내리기, 더보기 버튼 나오면 클릭하기\n",
    "print(f'{query} 스크롤 내리는중')\n",
    "elem=driver.find_element_by_tag_name('body')\n",
    "for i in range(60):\n",
    "    elem.send_keys(Keys.PAGE_DOWN)\n",
    "    time.sleep(0.1)\n",
    "\n",
    "### 결과 더보기 button 에 대한 xpath\n",
    "# /html/body/div[2]/c-wiz/div[3]/div[1]/div/div/div/div[2]/div[1]/div[2]/div[2]/input\n",
    "try:\n",
    "    driver.find_element_by_xpath('/html/body/div[2]/c-wiz/div[3]/div[1]/div/div/div/div[2]/div[1]/div[2]/div[2]/input')\n",
    "    for i in range(60):\n",
    "        elem.send_keys(Keys.PAGE_DOWN)\n",
    "        time.sleep(0.1)\n",
    "except:\n",
    "    pass\n",
    "\n",
    "# 5. 이미지 개수 파악하기\n",
    "links=[]\n",
    "images=driver.find_elements_by_css_selector('img.rg_i') ### find_element`s`_by_css_selector\n",
    "\n",
    "for image in images:\n",
    "    if image.get_attribute('data-src') != None:\n",
    "        links.append(image.get_attribute('data-src'))\n",
    "    elif image.get_attribute('data-iurl')!=None:\n",
    "        links.append(image.get_attribute('data-iurl'))\n",
    "    elif image.get_attribute('src') != None:\n",
    "        links.append(image.get_attribute('src'))\n",
    "print(\"찾은 이미지 개수 : \", len(links))\n",
    "\n",
    "# 6. 이미지 다운로드\n",
    "count=0\n",
    "for i in links:\n",
    "    start=time.time()\n",
    "    url=i\n",
    "    \n",
    "    img_temp.click()\n",
    "    time.sleep(0.3)\n",
    "    \n",
    "    os.makedirs('./download_image_data',exist_ok=True)\n",
    "    while True:\n",
    "        try:\n",
    "            urllib.request.urlretrieve(url,f'./download_image_data/{str(count)}_apple.png')\n",
    "            print(f'{str(count+1)}/{str(len(links))}/{query}/다운로드 시간 : {str(time.time()-start)[:5]} 초 ')\n",
    "            break\n",
    "        except urllib.error.HTTPError as e :\n",
    "            print(f'HTTPError 발생 {e} : 재시도 중 ...')\n",
    "            time.sleep(5)\n",
    "        except Exception as e:\n",
    "            print(f'Error 발생 {e} : 재시도 중 ...')\n",
    "            time.sleep(5)\n",
    "        if time.time() - start >60:\n",
    "            print('이미지 다운로드 실패...')\n",
    "            break\n",
    "    count=count+1\n",
    "\n",
    "print('다운로드 완료')\n",
    "driver.close()\n",
    "# driver.implicitly_wait(3)"
   ]
  },
  {
   "cell_type": "code",
   "execution_count": null,
   "id": "62abb05a",
   "metadata": {},
   "outputs": [],
   "source": []
  }
 ],
 "metadata": {
  "kernelspec": {
   "display_name": "AI",
   "language": "python",
   "name": "ai"
  },
  "language_info": {
   "codemirror_mode": {
    "name": "ipython",
    "version": 3
   },
   "file_extension": ".py",
   "mimetype": "text/x-python",
   "name": "python",
   "nbconvert_exporter": "python",
   "pygments_lexer": "ipython3",
   "version": "3.11.3"
  }
 },
 "nbformat": 4,
 "nbformat_minor": 5
}
