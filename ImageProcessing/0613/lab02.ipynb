{
 "cells": [
  {
   "cell_type": "code",
   "execution_count": 1,
   "id": "cc59b139",
   "metadata": {},
   "outputs": [
    {
     "name": "stdout",
     "output_type": "stream",
     "text": [
      "Requirement already satisfied: beautifulSoup4==4.11.1 in /Users/iamseungman/opt/anaconda3/envs/AI/lib/python3.11/site-packages (4.11.1)\r\n",
      "Requirement already satisfied: soupsieve>1.2 in /Users/iamseungman/opt/anaconda3/envs/AI/lib/python3.11/site-packages (from beautifulSoup4==4.11.1) (2.4.1)\r\n"
     ]
    }
   ],
   "source": [
    "!pip install beautifulSoup4==4.11.1"
   ]
  },
  {
   "cell_type": "code",
   "execution_count": 2,
   "id": "db902b4b",
   "metadata": {},
   "outputs": [
    {
     "name": "stdout",
     "output_type": "stream",
     "text": [
      "Requirement already satisfied: requests in /Users/iamseungman/opt/anaconda3/envs/AI/lib/python3.11/site-packages (2.29.0)\n",
      "Requirement already satisfied: charset-normalizer<4,>=2 in /Users/iamseungman/opt/anaconda3/envs/AI/lib/python3.11/site-packages (from requests) (2.0.4)\n",
      "Requirement already satisfied: idna<4,>=2.5 in /Users/iamseungman/opt/anaconda3/envs/AI/lib/python3.11/site-packages (from requests) (3.4)\n",
      "Requirement already satisfied: urllib3<1.27,>=1.21.1 in /Users/iamseungman/opt/anaconda3/envs/AI/lib/python3.11/site-packages (from requests) (1.26.15)\n",
      "Requirement already satisfied: certifi>=2017.4.17 in /Users/iamseungman/opt/anaconda3/envs/AI/lib/python3.11/site-packages (from requests) (2023.5.7)\n"
     ]
    }
   ],
   "source": [
    "!pip install requests"
   ]
  },
  {
   "cell_type": "markdown",
   "id": "0dfd352e",
   "metadata": {},
   "source": [
    "# 웹크롤링 Requests, BeautifulSoup 라이브러리 사용해서 크롤링"
   ]
  },
  {
   "cell_type": "code",
   "execution_count": 3,
   "id": "87b539ec",
   "metadata": {},
   "outputs": [],
   "source": [
    "import requests\n",
    "from bs4 import BeautifulSoup\n",
    "import os"
   ]
  },
  {
   "cell_type": "code",
   "execution_count": 11,
   "id": "3575e4b3",
   "metadata": {},
   "outputs": [
    {
     "name": "stdout",
     "output_type": "stream",
     "text": [
      "0 /images/branding/searchlogo/1x/googlelogo_desk_heirloom_color_150x55dp.gif\n",
      "1 https://encrypted-tbn0.gstatic.com/images?q=tbn:ANd9GcTcphgszxR6saYFj-4lYLrYPzWVwOfw6WNOJ7_7wIHO6dTylT-X8Z8IGv-Sog8&s\n",
      "2 https://encrypted-tbn0.gstatic.com/images?q=tbn:ANd9GcToSjh7ZNYssLfOwocI9z26wYRKvLiaJAcIa-gmST4VkNK7qbl9pQoUB1IF4w&s\n",
      "3 https://encrypted-tbn0.gstatic.com/images?q=tbn:ANd9GcTCzZXZKPyapDs3YPcBDX-nA3jI5i0wCiYtXfxD5290dAgofc2Hs5W6zgrtoMk&s\n",
      "4 https://encrypted-tbn0.gstatic.com/images?q=tbn:ANd9GcQUbHRS4MgjBVUuScBgBpe9-e8l-aBQgr7LJat5NAHXSH2Vg8WLsMgk3RuYI3s&s\n",
      "5 https://encrypted-tbn0.gstatic.com/images?q=tbn:ANd9GcSPYh4Z1PVVmbTWo82DFnEhsTeEa6f0i9MmMdyeYyZs8zlmbnsKNc8eoTCZWw&s\n",
      "6 https://encrypted-tbn0.gstatic.com/images?q=tbn:ANd9GcRTWZYi4dZ5WhUpn6_iCS5GoG8phOtQvxQQ1IrovXFRkf0uUD1rN2pc8U34iNM&s\n",
      "7 https://encrypted-tbn0.gstatic.com/images?q=tbn:ANd9GcREia-jaIhrpubAyI7o3ijiS8AIHXRGCe3k0QkC-bw0n61gzO99RnwFBzIqQA&s\n",
      "8 https://encrypted-tbn0.gstatic.com/images?q=tbn:ANd9GcTZou52MJ5Hr-WcgyJgpBwRXzc1ittvwnz9IQ3SHbIo9ZN37lX0eGAJ8pLZ21U&s\n",
      "9 https://encrypted-tbn0.gstatic.com/images?q=tbn:ANd9GcRQ8bM02ULMxe5dtQTJfJnPWjo-qn_XIJebTpODYygNAUhSrJPezEwIC42dXg&s\n",
      "10 https://encrypted-tbn0.gstatic.com/images?q=tbn:ANd9GcQmg15Po_bVhzQCtoEdCbk75hkG0qtI0hrrZwbbHFiTogvAicDf0vQS9N2tbfA&s\n",
      "11 https://encrypted-tbn0.gstatic.com/images?q=tbn:ANd9GcQj7HZmYG4j4dH1HCb2HCx2r2OXgOkdWalkN2lmJNCOnZAPqQvTRWshMfobcWk&s\n",
      "12 https://encrypted-tbn0.gstatic.com/images?q=tbn:ANd9GcSSx9hLfvcM-pni4PBrKfI5fJlE2RS3YG0Y8WsOItx0wdrNdmIrku4-CbWEP1I&s\n",
      "13 https://encrypted-tbn0.gstatic.com/images?q=tbn:ANd9GcQfiPrjNHQd5WaQp6NOwWSz097GYhx_cNPgCu_ymjbQxXn8QYevsYqqjdCip0w&s\n",
      "14 https://encrypted-tbn0.gstatic.com/images?q=tbn:ANd9GcTlJVqdnPvLZp2JC4lfQtxP-X-Y84pif0hAzrGa5ybAmtM6O4NwTWDvPDol5VA&s\n",
      "15 https://encrypted-tbn0.gstatic.com/images?q=tbn:ANd9GcThxbx1vDCiuoxFwnxTsVsc2rFIqoMaho4Moe5cHXBGX1SkUlhJz-MO74Yj6ZE&s\n",
      "16 https://encrypted-tbn0.gstatic.com/images?q=tbn:ANd9GcRgOA9ZVKC56xHp5xPucxUKJIf0aGmTIp08J1aaIC1HoXoTAqra_WtFFsW9mg&s\n",
      "17 https://encrypted-tbn0.gstatic.com/images?q=tbn:ANd9GcR-OPk7c64A61dmbzd5PaLO9FBk4KFtL_hwaDLgU5v2uHlqoAAUqSkWTzFYxjA&s\n",
      "18 https://encrypted-tbn0.gstatic.com/images?q=tbn:ANd9GcTOd_fRLa8wySARa9Svh6tq2y1eMI9-35SBXjvoXCxpO1gVQ55ITT4u0JAwcQ&s\n",
      "19 https://encrypted-tbn0.gstatic.com/images?q=tbn:ANd9GcRTIvH2cCTJDGqnkwKoTYmsLDnHzn0qMVVSUVxcGbuzxzgWcwAvOSRxhLwvbgQ&s\n",
      "20 https://encrypted-tbn0.gstatic.com/images?q=tbn:ANd9GcQSHJpgHsT38bWVcuYWh9yqmiBB3vAEtaTPEYMwegp9ddYp8cen-vLU1o1POQc&s\n"
     ]
    }
   ],
   "source": [
    "# 키워드\n",
    "query='사과'\n",
    "\n",
    "url=f'https://www.google.com/search?q={query}&source-lnms&tbm=isch'\n",
    "\n",
    "header={\n",
    "     \"User-Agent\": \"Mozilla/5.0 (Windows NT 10.0; Win64; x64) AppleWebKit/537.36 (KHTML, like Gecko) Chrome/58.0.3029.110 Safari/537.3\"\n",
    "}\n",
    "\n",
    "response=requests.get(url,headers=header)\n",
    "\n",
    "# 1차 정제 : 필요한 html에 관련된 내용\n",
    "\n",
    "soup=BeautifulSoup(response.text,'html.parser') #BeautifulSoup() : xml,html을 parsing 하는 함수\n",
    "\n",
    "# 2차 정제 : img tag에 대한 내용 \n",
    "img_tags=soup.find_all('img')\n",
    "\n",
    "# img tag정보에서 src 외에 비슷한 정보 포함하기\n",
    "urls_list=[]\n",
    "\n",
    "for img_tag in img_tags:\n",
    "    try:\n",
    "        urls_list.append(img_tag['src'])\n",
    "    except KeyError:\n",
    "        try:\n",
    "            urls_list.append(img_tag['data-src'])\n",
    "        except KeyError:\n",
    "            try:\n",
    "                urls_list.append(img_tag['data-iurl'])\n",
    "            except KeyError:\n",
    "                pass\n",
    "# 이미지 저장\n",
    "os.makedirs('./image01_data',exist_ok=True)\n",
    "\n",
    "for i, url in enumerate(urls_list):\n",
    "    print(i,url)\n",
    "    \n",
    "    # 예외 처리\n",
    "    try:\n",
    "        img_data=requests.get(url,headers=header).content\n",
    "        file_path=f'./image01_data/apple_{i}.png'\n",
    "        with open(file_path,'wb') as f:\n",
    "            f.write(img_data)\n",
    "        \n",
    "        # file size가 0byte 제거\n",
    "        if os.path.getsize(file_path)==0:\n",
    "            os.remove(file_path)\n",
    "        \n",
    "    # 오류 발생한 것은 제외\n",
    "    except:\n",
    "        pass"
   ]
  },
  {
   "cell_type": "code",
   "execution_count": null,
   "id": "df2ff9e3",
   "metadata": {},
   "outputs": [],
   "source": []
  },
  {
   "cell_type": "code",
   "execution_count": null,
   "id": "2a06555c",
   "metadata": {},
   "outputs": [],
   "source": []
  },
  {
   "cell_type": "code",
   "execution_count": null,
   "id": "de297b09",
   "metadata": {},
   "outputs": [],
   "source": []
  },
  {
   "cell_type": "code",
   "execution_count": null,
   "id": "94f07510",
   "metadata": {},
   "outputs": [],
   "source": []
  }
 ],
 "metadata": {
  "kernelspec": {
   "display_name": "AI",
   "language": "python",
   "name": "ai"
  },
  "language_info": {
   "codemirror_mode": {
    "name": "ipython",
    "version": 3
   },
   "file_extension": ".py",
   "mimetype": "text/x-python",
   "name": "python",
   "nbconvert_exporter": "python",
   "pygments_lexer": "ipython3",
   "version": "3.11.3"
  }
 },
 "nbformat": 4,
 "nbformat_minor": 5
}
