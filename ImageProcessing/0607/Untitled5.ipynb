{
 "cells": [
  {
   "cell_type": "markdown",
   "id": "dda58da8",
   "metadata": {},
   "source": [
    "# 평균 색을 특성으로 인코딩"
   ]
  },
  {
   "cell_type": "code",
   "execution_count": 1,
   "id": "f2106525",
   "metadata": {},
   "outputs": [],
   "source": [
    "import cv2\n",
    "import matplotlib.pyplot as plt"
   ]
  },
  {
   "cell_type": "code",
   "execution_count": 4,
   "id": "6e1688f2",
   "metadata": {},
   "outputs": [
    {
     "name": "stdout",
     "output_type": "stream",
     "text": [
      "(228.31011904761905, 183.62256944444445, 187.0489996693122, 0.0)\n"
     ]
    }
   ],
   "source": [
    "image_path='../data/apple.png'\n",
    "\n",
    "image=cv2.imread(image_path)\n",
    "image=cv2.cvtColor(image,cv2.COLOR_BGR2RGB)\n",
    "\n",
    "# 평균색 특성 인코딩\n",
    "channels=cv2.mean(image)\n",
    "print(channels)"
   ]
  },
  {
   "cell_type": "code",
   "execution_count": null,
   "id": "103d7092",
   "metadata": {},
   "outputs": [],
   "source": []
  }
 ],
 "metadata": {
  "kernelspec": {
   "display_name": "AI",
   "language": "python",
   "name": "ai"
  },
  "language_info": {
   "codemirror_mode": {
    "name": "ipython",
    "version": 3
   },
   "file_extension": ".py",
   "mimetype": "text/x-python",
   "name": "python",
   "nbconvert_exporter": "python",
   "pygments_lexer": "ipython3",
   "version": "3.11.3"
  }
 },
 "nbformat": 4,
 "nbformat_minor": 5
}
