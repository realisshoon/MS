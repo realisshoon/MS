{
 "cells": [
  {
   "cell_type": "markdown",
   "id": "9e0bf30a",
   "metadata": {},
   "source": [
    "# numpy를 사용하여 이미지 저장 시 효율 비교"
   ]
  },
  {
   "cell_type": "code",
   "execution_count": 1,
   "id": "976cda85",
   "metadata": {},
   "outputs": [],
   "source": [
    "import numpy as np\n",
    "from PIL import Image"
   ]
  },
  {
   "cell_type": "code",
   "execution_count": 3,
   "id": "8ffa5ddd",
   "metadata": {},
   "outputs": [
    {
     "name": "stdout",
     "output_type": "stream",
     "text": [
      "<PIL.Image.Image image mode=L size=310x162 at 0x111B7EE10>\n"
     ]
    }
   ],
   "source": [
    "# 이미지 불러오기\n",
    "img=Image.open(\"../data/cat.png\").convert('L') # 그레이 스케일 변환\n",
    "print(img)"
   ]
  },
  {
   "cell_type": "code",
   "execution_count": 4,
   "id": "176eb9fd",
   "metadata": {},
   "outputs": [
    {
     "name": "stdout",
     "output_type": "stream",
     "text": [
      "[[222 222 222 ... 169 169 169]\n",
      " [223 223 223 ... 168 168 168]\n",
      " [223 223 223 ... 165 165 165]\n",
      " ...\n",
      " [219 219 222 ... 235 234 234]\n",
      " [221 222 224 ... 236 236 235]\n",
      " [221 222 224 ... 236 236 235]]\n"
     ]
    }
   ],
   "source": [
    "img_array=np.array(img)\n",
    "print(img_array)"
   ]
  },
  {
   "cell_type": "code",
   "execution_count": 5,
   "id": "c29527b8",
   "metadata": {},
   "outputs": [],
   "source": [
    "np.save('../data/pil_image.npy',img_array)"
   ]
  },
  {
   "cell_type": "code",
   "execution_count": 6,
   "id": "f3e6ba64",
   "metadata": {},
   "outputs": [
    {
     "name": "stdout",
     "output_type": "stream",
     "text": [
      "[[222 222 222 ... 169 169 169]\n",
      " [223 223 223 ... 168 168 168]\n",
      " [223 223 223 ... 165 165 165]\n",
      " ...\n",
      " [219 219 222 ... 235 234 234]\n",
      " [221 222 224 ... 236 236 235]\n",
      " [221 222 224 ... 236 236 235]]\n"
     ]
    }
   ],
   "source": [
    "image_array1=np.load('../data/pil_image.npy')\n",
    "print(image_array1)"
   ]
  },
  {
   "cell_type": "code",
   "execution_count": 8,
   "id": "c2578189",
   "metadata": {},
   "outputs": [],
   "source": [
    "# 다시 PIL 이미지로 변환\n",
    "img=Image.fromarray(np.uint8(image_array1))\n",
    "img.save('../data/img_numpy.png')"
   ]
  },
  {
   "cell_type": "code",
   "execution_count": 15,
   "id": "c4589a74",
   "metadata": {},
   "outputs": [
    {
     "name": "stdout",
     "output_type": "stream",
     "text": [
      "50348 bytes\n"
     ]
    }
   ],
   "source": [
    "import os\n",
    "np_save_size=os.path.getsize('../data/pil_image.npy')\n",
    "print(np_save_size,\"bytes\") #byte 단위임"
   ]
  },
  {
   "cell_type": "code",
   "execution_count": 16,
   "id": "6ea98e98",
   "metadata": {},
   "outputs": [
    {
     "name": "stdout",
     "output_type": "stream",
     "text": [
      "26813 bytes\n"
     ]
    }
   ],
   "source": [
    "pil_save_size=os.path.getsize('../data/img_numpy.png')\n",
    "print(pil_save_size,\"bytes\")"
   ]
  },
  {
   "cell_type": "code",
   "execution_count": null,
   "id": "5328e911",
   "metadata": {},
   "outputs": [],
   "source": []
  }
 ],
 "metadata": {
  "kernelspec": {
   "display_name": "AI",
   "language": "python",
   "name": "ai"
  },
  "language_info": {
   "codemirror_mode": {
    "name": "ipython",
    "version": 3
   },
   "file_extension": ".py",
   "mimetype": "text/x-python",
   "name": "python",
   "nbconvert_exporter": "python",
   "pygments_lexer": "ipython3",
   "version": "3.11.3"
  }
 },
 "nbformat": 4,
 "nbformat_minor": 5
}
