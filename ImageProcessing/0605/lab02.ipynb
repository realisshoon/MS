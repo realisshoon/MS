{
 "cells": [
  {
   "cell_type": "markdown",
   "id": "2ef2381d",
   "metadata": {},
   "source": [
    "# 주성분 줄이기 차이 비교\n",
    "- 사이킷런 손글씨 데이터를 활용하여 주성분 줄이기 차이(결과값 비교)"
   ]
  },
  {
   "cell_type": "code",
   "execution_count": 2,
   "id": "a3a2b24a",
   "metadata": {},
   "outputs": [],
   "source": [
    "from sklearn.datasets import load_digits\n",
    "from sklearn.model_selection import train_test_split\n",
    "from sklearn.linear_model import LogisticRegression\n",
    "from sklearn.metrics import accuracy_score"
   ]
  },
  {
   "cell_type": "markdown",
   "id": "1b5e29a7",
   "metadata": {},
   "source": [
    "# 데이터 불러오기"
   ]
  },
  {
   "cell_type": "code",
   "execution_count": 3,
   "id": "e197cc66",
   "metadata": {},
   "outputs": [
    {
     "name": "stdout",
     "output_type": "stream",
     "text": [
      "1797\n",
      "1797\n",
      "1437 360\n",
      "1437 360\n"
     ]
    }
   ],
   "source": [
    "digits=load_digits()\n",
    "\n",
    "print(len(digits.data))\n",
    "print(len(digits.target))\n",
    "x_train,x_test,y_train,y_test=train_test_split(digits.data,digits.target,test_size=0.2,random_state=777)\n",
    "\n",
    "print(len(x_train),len(x_test))\n",
    "print(len(y_train),len(y_test))\n",
    "\n",
    "\"\"\"\n",
    "8 : 2\n",
    "2-> 1 : 1\n",
    "8 : 1 : 1\n",
    "\n",
    "\n",
    "1. 폴더 생성(이미지 100개)\n",
    "2. 폴더 읽고 -> train val test 나눠서 폴더 생성해서 거기에 이미지 저장\n",
    "\"\"\""
   ]
  },
  {
   "cell_type": "markdown",
   "id": "44325786",
   "metadata": {},
   "source": [
    "# 모델 불러오기"
   ]
  },
  {
   "cell_type": "code",
   "execution_count": 7,
   "id": "92510700",
   "metadata": {},
   "outputs": [
    {
     "name": "stdout",
     "output_type": "stream",
     "text": [
      "Accuracy without normalization : 0.9511111111111111\n"
     ]
    },
    {
     "name": "stderr",
     "output_type": "stream",
     "text": [
      "/Users/iamseungman/opt/anaconda3/envs/AI/lib/python3.11/site-packages/sklearn/linear_model/_logistic.py:458: ConvergenceWarning: lbfgs failed to converge (status=1):\n",
      "STOP: TOTAL NO. of ITERATIONS REACHED LIMIT.\n",
      "\n",
      "Increase the number of iterations (max_iter) or scale the data as shown in:\n",
      "    https://scikit-learn.org/stable/modules/preprocessing.html\n",
      "Please also refer to the documentation for alternative solver options:\n",
      "    https://scikit-learn.org/stable/modules/linear_model.html#logistic-regression\n",
      "  n_iter_i = _check_optimize_result(\n"
     ]
    }
   ],
   "source": [
    "digits=load_digits()\n",
    "\n",
    "# 진짜 차이가 있는지 체크하기 위해서 -> 정규화 하지 않은 데이터로 분류 모델 훈련\n",
    "x_train,x_test,y_train,y_test=train_test_split(digits.data,digits.target,random_state=777)\n",
    "model=LogisticRegression()\n",
    "model.fit(x_train,y_train)\n",
    "y_pred=model.predict(x_test)\n",
    "\n",
    "no_standardScaler_acc_score= accuracy_score(y_test,y_pred)\n",
    "print('Accuracy without normalization :', no_standardScaler_acc_score)"
   ]
  },
  {
   "cell_type": "markdown",
   "id": "78216bc4",
   "metadata": {},
   "source": [
    "이 경고는 로지스틱 회귀 모델이 수렴하지 못하고 반복횟수 제한에 도달하여 최적화 과정이 중단 되었다는 것을 의미함. \n",
    "\n",
    "오류 수정 방법은 max_iter 옵션 증가/ 데이터 스케일링 조정\n",
    "\n",
    "max_iter 옵션 증가 model=LogisticRegression(max_iter=10000)"
   ]
  },
  {
   "cell_type": "code",
   "execution_count": 8,
   "id": "063a77ed",
   "metadata": {},
   "outputs": [
    {
     "name": "stdout",
     "output_type": "stream",
     "text": [
      "Accuracy without normalization : 0.9533333333333334\n"
     ]
    }
   ],
   "source": [
    "model=LogisticRegression(max_iter=10000)\n",
    "model.fit(x_train,y_train)\n",
    "y_pred=model.predict(x_test)\n",
    "\n",
    "no_standardScaler_acc_score= accuracy_score(y_test,y_pred)\n",
    "print('Accuracy without normalization :', no_standardScaler_acc_score)"
   ]
  },
  {
   "cell_type": "markdown",
   "id": "bce7fe54",
   "metadata": {},
   "source": [
    "# StandardScaler 적용후 -> ACC"
   ]
  },
  {
   "cell_type": "code",
   "execution_count": 9,
   "id": "b6550d05",
   "metadata": {},
   "outputs": [
    {
     "name": "stdout",
     "output_type": "stream",
     "text": [
      "Accuracy with normalization:  0.9555555555555556\n"
     ]
    }
   ],
   "source": [
    "from sklearn.preprocessing import StandardScaler\n",
    "# 데이터 정규화 후 분류 모델 훈련\n",
    "scaler = StandardScaler()\n",
    "x_train_norm=scaler.fit_transform(x_train)\n",
    "x_test_norm=scaler.transform(x_test)\n",
    "model_norm=LogisticRegression()\n",
    "model_norm.fit(x_train_norm,y_train)\n",
    "y_pred_norm=model_norm.predict(x_test_norm)\n",
    "\n",
    "standardScaler_acc_score=accuracy_score(y_test,y_pred_norm)\n",
    "print('Accuracy with normalization: ', standardScaler_acc_score)"
   ]
  },
  {
   "cell_type": "code",
   "execution_count": 10,
   "id": "b67c308a",
   "metadata": {},
   "outputs": [
    {
     "name": "stdout",
     "output_type": "stream",
     "text": [
      "0.9533333333333334 0.9555555555555556\n"
     ]
    }
   ],
   "source": [
    "# 두개의 차이를 보면\n",
    "print(no_standardScaler_acc_score,standardScaler_acc_score)"
   ]
  },
  {
   "cell_type": "markdown",
   "id": "91306f1a",
   "metadata": {},
   "source": [
    "차원을 줄이면 성능이 증가함"
   ]
  },
  {
   "cell_type": "code",
   "execution_count": null,
   "id": "671cd93b",
   "metadata": {},
   "outputs": [],
   "source": []
  }
 ],
 "metadata": {
  "kernelspec": {
   "display_name": "AI",
   "language": "python",
   "name": "ai"
  },
  "language_info": {
   "codemirror_mode": {
    "name": "ipython",
    "version": 3
   },
   "file_extension": ".py",
   "mimetype": "text/x-python",
   "name": "python",
   "nbconvert_exporter": "python",
   "pygments_lexer": "ipython3",
   "version": "3.11.3"
  }
 },
 "nbformat": 4,
 "nbformat_minor": 5
}
