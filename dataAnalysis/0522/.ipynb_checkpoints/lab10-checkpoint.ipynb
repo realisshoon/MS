{
 "cells": [
  {
   "cell_type": "code",
   "execution_count": 1,
   "id": "6b064df2",
   "metadata": {},
   "outputs": [],
   "source": [
    "import pandas as pd\n",
    "import numpy as np"
   ]
  },
  {
   "cell_type": "code",
   "execution_count": 4,
   "id": "a5036397",
   "metadata": {},
   "outputs": [
    {
     "name": "stdout",
     "output_type": "stream",
     "text": [
      "   A  B  C\n",
      "0  4  2  5\n",
      "1  5  3  2\n",
      "2  1  5  2\n",
      "3  2  3  1\n",
      "4  4  5  2\n",
      "5  1  4  2\n",
      "6  1  5  2\n",
      "7  2  3  2\n",
      "8  5  5  1\n",
      "9  5  3  5\n"
     ]
    }
   ],
   "source": [
    "# 가상의 데이터 셋 생성\n",
    "np.random.seed(1)\n",
    "data={\n",
    "    'A':np.random.randint(1,6,10),\n",
    "    'B':np.random.randint(1,6,10),\n",
    "    'C':np.random.randint(1,6,10),\n",
    "}\n",
    "df=pd.DataFrame(data)\n",
    "print(df)"
   ]
  },
  {
   "cell_type": "code",
   "execution_count": 6,
   "id": "2a215c05",
   "metadata": {},
   "outputs": [
    {
     "name": "stdout",
     "output_type": "stream",
     "text": [
      "One-way ANOVA\n",
      "=============\n",
      "F-statistic: 2.2966\n",
      "p-value: 0.1199\n",
      "귀무 가설 채택\n"
     ]
    }
   ],
   "source": [
    "# 일원 분산 분석 수행\n",
    "from scipy.stats import f_oneway\n",
    "\n",
    "f_stat,p_val=f_oneway(df['A'],df['B'],df['C'])\n",
    "print('One-way ANOVA')\n",
    "print('=============')\n",
    "print(f'F-statistic: {f_stat:.4f}')\n",
    "print(f'p-value: {p_val:.4f}')\n",
    "\n",
    "alpha=0.05\n",
    "if p_val<alpha:\n",
    "    print(\"귀무 가설 기각\")\n",
    "else:\n",
    "    print(\"귀무 가설 채택\")"
   ]
  },
  {
   "cell_type": "code",
   "execution_count": null,
   "id": "a0a03f03",
   "metadata": {},
   "outputs": [],
   "source": []
  }
 ],
 "metadata": {
  "kernelspec": {
   "display_name": "MS",
   "language": "python",
   "name": "ms"
  },
  "language_info": {
   "codemirror_mode": {
    "name": "ipython",
    "version": 3
   },
   "file_extension": ".py",
   "mimetype": "text/x-python",
   "name": "python",
   "nbconvert_exporter": "python",
   "pygments_lexer": "ipython3",
   "version": "3.8.16"
  }
 },
 "nbformat": 4,
 "nbformat_minor": 5
}
