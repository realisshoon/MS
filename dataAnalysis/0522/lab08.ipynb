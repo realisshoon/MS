{
 "cells": [
  {
   "cell_type": "code",
   "execution_count": 12,
   "id": "eb0c6130",
   "metadata": {},
   "outputs": [],
   "source": [
    "import pandas as pd\n",
    "import scipy as stats\n",
    "from scipy import stats"
   ]
  },
  {
   "cell_type": "code",
   "execution_count": 16,
   "id": "b9faef6b",
   "metadata": {},
   "outputs": [
    {
     "name": "stdout",
     "output_type": "stream",
     "text": [
      "0.18890814558058924\n",
      "0.7420382165605095\n",
      "p-value : 0.0000, 귀무 가설 기각\n"
     ]
    }
   ],
   "source": [
    "# 데이터 가져오기\n",
    "titanic_df=pd.read_csv('../data/Titanic_data.csv')\n",
    "\n",
    "# 남성 승객과 여성 승객의 생존 여부에 따른 데이터 프레임 생성\n",
    "male_df=titanic_df[titanic_df['Sex']=='male']\n",
    "female_df=titanic_df[titanic_df['Sex']=='female']\n",
    "\n",
    "# .mean()\n",
    "male_survival_rate=male_df['Survived'].mean()\n",
    "female_survival_rate=female_df['Survived'].mean()\n",
    "print(male_survival_rate)\n",
    "print(female_survival_rate)\n",
    "\n",
    "\n",
    "# t-검정\n",
    "t,p=stats.ttest_ind(male_df['Survived'],female_df['Survived'])\n",
    "alpth=0.05\n",
    "if p<alpth:\n",
    "    print(f'p-value : {p:.4f}, 귀무 가설 기각')\n",
    "else:\n",
    "    print(f'p-value : {p:.4f}, 귀무 가설 채택')"
   ]
  },
  {
   "cell_type": "code",
   "execution_count": null,
   "id": "214a08b6",
   "metadata": {},
   "outputs": [],
   "source": []
  }
 ],
 "metadata": {
  "kernelspec": {
   "display_name": "MS",
   "language": "python",
   "name": "ms"
  },
  "language_info": {
   "codemirror_mode": {
    "name": "ipython",
    "version": 3
   },
   "file_extension": ".py",
   "mimetype": "text/x-python",
   "name": "python",
   "nbconvert_exporter": "python",
   "pygments_lexer": "ipython3",
   "version": "3.8.16"
  }
 },
 "nbformat": 4,
 "nbformat_minor": 5
}
