{
 "cells": [
  {
   "cell_type": "code",
   "execution_count": 12,
   "id": "9888c5fe",
   "metadata": {},
   "outputs": [],
   "source": [
    "import pandas as pd\n",
    "import random\n",
    "import os\n",
    "\n",
    "# 랜덤하게 각 주식의 가격 100개의 데이터 생성\n",
    "# 시계열 데이터는 항상 date형식으로 되어있어야함\n",
    "dates=pd.date_range(start='2021-01-04',periods=100,freq='D') \n",
    "\n",
    "# 삼성 전자 주식 데이터\n",
    "samsung_prices=[random.randint(70000,90000) for _ in range(100)]\n",
    "samsung_data={'Date':dates,'005930.KS':samsung_prices}\n",
    "samsung_df=pd.DataFrame(samsung_data)\n",
    "samsung_df.set_index('Date',inplace=True) # index를 Date로\n",
    "\n",
    "# LG 전자 주식 데이터\n",
    "lg_prices=[random.randint(140000,160000) for _ in range(100)]\n",
    "lg_data={'Date':dates,'066570.KS':lg_prices}\n",
    "lg_df=pd.DataFrame(lg_data)\n",
    "lg_df.set_index('Date',inplace=True)\n",
    "\n",
    "# 두 데이터프레임을 합쳐서 하나의 데이터프레임으로 만들기\n",
    "df=pd.concat([samsung_df,lg_df],axis=1)\n",
    "df=df.loc[:,['005930.KS','066570.KS']]\n",
    "df.columns=['Samsung','LG']\n",
    "\n",
    "\n",
    "# 이미 폴더가 생성되어있으면 error가 발생하는데 이를 방지하기 위함\n",
    "os.makedirs('../data',exist_ok=True)\n",
    "# csv 파일로 저장\n",
    "df.to_csv('../data/stock_price.csv')"
   ]
  },
  {
   "cell_type": "code",
   "execution_count": 10,
   "id": "0b7edd77",
   "metadata": {},
   "outputs": [
    {
     "name": "stdout",
     "output_type": "stream",
     "text": [
      "            Samsung      LG\n",
      "Date                       \n",
      "2021-01-04    84442  148737\n",
      "2021-01-05    71308  155273\n",
      "2021-01-06    83527  151413\n",
      "2021-01-07    89668  149309\n",
      "2021-01-08    76579  143914\n",
      "...             ...     ...\n",
      "2021-04-09    82455  152055\n",
      "2021-04-10    76952  140631\n",
      "2021-04-11    85507  157621\n",
      "2021-04-12    83193  152896\n",
      "2021-04-13    88491  148444\n",
      "\n",
      "[100 rows x 2 columns]\n",
      "             Samsung        LG\n",
      "Date                          \n",
      "2021-01-04       NaN       NaN\n",
      "2021-01-05 -0.155539  0.043943\n",
      "2021-01-06  0.171355 -0.024859\n",
      "2021-01-07  0.073521 -0.013896\n",
      "2021-01-08 -0.145972 -0.036133\n",
      "...              ...       ...\n",
      "2021-04-09  0.141467  0.084604\n",
      "2021-04-10 -0.066739 -0.075131\n",
      "2021-04-11  0.111173  0.120813\n",
      "2021-04-12 -0.027062 -0.029977\n",
      "2021-04-13  0.063683 -0.029118\n",
      "\n",
      "[100 rows x 2 columns]\n",
      "          Samsung        LG\n",
      "Samsung  1.000000 -0.099192\n",
      "LG      -0.099192  1.000000\n"
     ]
    }
   ],
   "source": [
    "# csv 읽기\n",
    "df=pd.read_csv('../data/stock_price.csv')\n",
    "df['Date']=pd.to_datetime(df['Date'])\n",
    "df.set_index('Date',inplace=True)\n",
    "print(df)\n",
    "\n",
    "# 두 종목의 수익률 계산\n",
    "# 이전의 행값과의 비교를 통해 계산하게 됨\n",
    "# 이전 값이 없는 2021-01-04 항은 NaN 값이 발생\n",
    "returns = df.pct_change()\n",
    "print(returns)\n",
    "\n",
    "# 수익률 간의 상관 계수 계산\n",
    "corr_matrix=returns.corr()\n",
    "print(corr_matrix)"
   ]
  },
  {
   "cell_type": "code",
   "execution_count": 14,
   "id": "16dc9041",
   "metadata": {},
   "outputs": [
    {
     "data": {
      "image/png": "[encoded data removed]",
      "text/plain": [
       "<Figure size 640x480 with 2 Axes>"
      ]
     },
     "metadata": {},
     "output_type": "display_data"
    }
   ],
   "source": [
    "import seaborn as sns\n",
    "import matplotlib.pyplot as plt\n",
    "\n",
    "# 히트맵 그리기\n",
    "sns.heatmap(corr_matrix,annot=True,cmap='coolwarm')\n",
    "plt.title('Stock Returns Correlation')\n",
    "plt.show()"
   ]
  },
  {
   "cell_type": "code",
   "execution_count": null,
   "id": "9fbfd103",
   "metadata": {},
   "outputs": [],
   "source": []
  }
 ],
 "metadata": {
  "kernelspec": {
   "display_name": "MS",
   "language": "python",
   "name": "ms"
  },
  "language_info": {
   "codemirror_mode": {
    "name": "ipython",
    "version": 3
   },
   "file_extension": ".py",
   "mimetype": "text/x-python",
   "name": "python",
   "nbconvert_exporter": "python",
   "pygments_lexer": "ipython3",
   "version": "3.8.16"
  }
 },
 "nbformat": 4,
 "nbformat_minor": 5
}
