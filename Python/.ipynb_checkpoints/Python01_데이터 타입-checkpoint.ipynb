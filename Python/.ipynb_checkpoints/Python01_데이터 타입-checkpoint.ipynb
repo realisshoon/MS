{
 "cells": [
  {
   "cell_type": "markdown",
   "metadata": {
    "id": "3MfOg6EUDUfJ"
   },
   "source": [
    "# Markdown 문법\n",
    "+ 마음먹고 쭉 훑어보면 좋다.\n",
    "  - https://gist.github.com/ihoneymon/652be052a0727ad59601\n"
   ]
  },
  {
   "cell_type": "markdown",
   "metadata": {
    "id": "hxubY9KAGNng"
   },
   "source": [
    "-------"
   ]
  },
  {
   "cell_type": "code",
   "execution_count": null,
   "metadata": {
    "colab": {
     "base_uri": "https://localhost:8080/"
    },
    "executionInfo": {
     "elapsed": 423,
     "status": "ok",
     "timestamp": 1681264052892,
     "user": {
      "displayName": "한승훈",
      "userId": "08150251924661679991"
     },
     "user_tz": -540
    },
    "id": "duRXrKzuDJVl",
    "outputId": "e1b9f661-fb95-449d-e629-bfae9d354274"
   },
   "outputs": [
    {
     "name": "stdout",
     "output_type": "stream",
     "text": [
      "Hello world\n"
     ]
    }
   ],
   "source": [
    "print(\"Hello world\")"
   ]
  },
  {
   "cell_type": "code",
   "execution_count": 10,
   "metadata": {
    "colab": {
     "base_uri": "https://localhost:8080/"
    },
    "executionInfo": {
     "elapsed": 418,
     "status": "ok",
     "timestamp": 1681264888135,
     "user": {
      "displayName": "한승훈",
      "userId": "08150251924661679991"
     },
     "user_tz": -540
    },
    "id": "a8K2EOxoGjYK",
    "outputId": "97c8d6f7-c0f3-49dd-e12b-3ee9e313ea75"
   },
   "outputs": [
    {
     "name": "stdout",
     "output_type": "stream",
     "text": [
      "2 100 100\n"
     ]
    }
   ],
   "source": [
    "#변수 규칙\n",
    "a=1\n",
    "b=2\n",
    "#2a=3 항상 변수는 문자(가급적 알파벳)로 시작\n",
    "학생수=100\n",
    "#가급적 full name(정확한 영어)으로 쓰기\n",
    "student_count=100 \n",
    "print(a*b,학생수,student_count)"
   ]
  },
  {
   "cell_type": "code",
   "execution_count": 11,
   "metadata": {
    "colab": {
     "base_uri": "https://localhost:8080/"
    },
    "executionInfo": {
     "elapsed": 685,
     "status": "ok",
     "timestamp": 1681265780645,
     "user": {
      "displayName": "한승훈",
      "userId": "08150251924661679991"
     },
     "user_tz": -540
    },
    "id": "MyrL1977KqZj",
    "outputId": "6e2f2329-a2f7-47d2-c1de-39c9e2a0de18"
   },
   "outputs": [
    {
     "name": "stdout",
     "output_type": "stream",
     "text": [
      "1\n"
     ]
    }
   ],
   "source": [
    "#대소문자 구별함.\n",
    "friend=1\n",
    "Friend=10\n",
    "print(friend)"
   ]
  },
  {
   "cell_type": "code",
   "execution_count": 13,
   "metadata": {
    "executionInfo": {
     "elapsed": 338,
     "status": "ok",
     "timestamp": 1681266095665,
     "user": {
      "displayName": "한승훈",
      "userId": "08150251924661679991"
     },
     "user_tz": -540
    },
    "id": "CZmWbq5rLYpF"
   },
   "outputs": [],
   "source": [
    "#예약어는 변수로 사용 불가\n",
    "#for=1"
   ]
  },
  {
   "cell_type": "code",
   "execution_count": 14,
   "metadata": {
    "colab": {
     "base_uri": "https://localhost:8080/"
    },
    "executionInfo": {
     "elapsed": 601,
     "status": "ok",
     "timestamp": 1681266117013,
     "user": {
      "displayName": "한승훈",
      "userId": "08150251924661679991"
     },
     "user_tz": -540
    },
    "id": "6tX94E-PRJDv",
    "outputId": "d75e31fb-e242-485e-8350-cfd11b49b7fb"
   },
   "outputs": [
    {
     "name": "stdout",
     "output_type": "stream",
     "text": [
      "2023 4\n"
     ]
    }
   ],
   "source": [
    "#숫자형\n",
    "year=2023\n",
    "month=4\n",
    "print(year,month)"
   ]
  },
  {
   "cell_type": "code",
   "execution_count": 18,
   "metadata": {
    "colab": {
     "base_uri": "https://localhost:8080/"
    },
    "executionInfo": {
     "elapsed": 304,
     "status": "ok",
     "timestamp": 1681266263025,
     "user": {
      "displayName": "한승훈",
      "userId": "08150251924661679991"
     },
     "user_tz": -540
    },
    "id": "bKTLW1swLZel",
    "outputId": "dbd728bb-6bb4-4c97-9687-1c22a47463e4"
   },
   "outputs": [
    {
     "name": "stdout",
     "output_type": "stream",
     "text": [
      "<class 'int'>\n",
      "<class 'str'>\n"
     ]
    }
   ],
   "source": [
    "year=2023\n",
    "print(type(year)) #type() 데이터의 타입을 확인하는 함수\n",
    "year='이천이십삼년'\n",
    "print(type(year))"
   ]
  },
  {
   "cell_type": "code",
   "execution_count": 20,
   "metadata": {
    "colab": {
     "base_uri": "https://localhost:8080/"
    },
    "executionInfo": {
     "elapsed": 394,
     "status": "ok",
     "timestamp": 1681266522980,
     "user": {
      "displayName": "한승훈",
      "userId": "08150251924661679991"
     },
     "user_tz": -540
    },
    "id": "jEGIEmXNRTr5",
    "outputId": "e2292ce6-2fb8-4f42-f73f-42724ca09954"
   },
   "outputs": [
    {
     "name": "stdout",
     "output_type": "stream",
     "text": [
      "8\n",
      "2\n",
      "16\n"
     ]
    }
   ],
   "source": [
    "# 8진수\n",
    "# 정수  앞에 0o를 붙이면 8진수\n",
    "print(0o10)\n",
    "# 2진수\n",
    "# 정수 앞에 0b를 붙이면 2진수\n",
    "print(0b10)\n",
    "# 16진수\n",
    "# 정수 앞에 0x를 붙이면 16진수\n",
    "print(0x10)"
   ]
  },
  {
   "cell_type": "code",
   "execution_count": 24,
   "metadata": {
    "colab": {
     "base_uri": "https://localhost:8080/"
    },
    "executionInfo": {
     "elapsed": 3,
     "status": "ok",
     "timestamp": 1681266965099,
     "user": {
      "displayName": "한승훈",
      "userId": "08150251924661679991"
     },
     "user_tz": -540
    },
    "id": "j879EohcRT1c",
    "outputId": "3ab2dda7-9a58-4e75-9a76-fdb1b435e687"
   },
   "outputs": [
    {
     "name": "stdout",
     "output_type": "stream",
     "text": [
      "0o46\n",
      "0x26\n",
      "0b100110\n",
      "<class 'str'> <class 'str'> <class 'str'>\n"
     ]
    }
   ],
   "source": [
    "#10진수를 받아 각 진수로 변환하는 방법(결과가 문자형)\n",
    "print(oct(38)) #10진수 38을 8진수로 변환\n",
    "print(hex(38)) #10진수 38을 16진수로 변환\n",
    "print(bin(38)) #10진수 38을 2진수로 변환\n",
    "print(type(oct(38)),type(hex(38)),type(bin(38)))"
   ]
  },
  {
   "cell_type": "code",
   "execution_count": 25,
   "metadata": {
    "colab": {
     "base_uri": "https://localhost:8080/"
    },
    "executionInfo": {
     "elapsed": 608,
     "status": "ok",
     "timestamp": 1681266990640,
     "user": {
      "displayName": "한승훈",
      "userId": "08150251924661679991"
     },
     "user_tz": -540
    },
    "id": "nPCqyAS4RT-5",
    "outputId": "5f9f5956-c6c5-434a-c2a7-20ef56723567"
   },
   "outputs": [
    {
     "name": "stdout",
     "output_type": "stream",
     "text": [
      "<class 'int'>\n",
      "<class 'int'>\n"
     ]
    }
   ],
   "source": [
    "# 파이썬의 정수 타입\n",
    "print(type(1)) #int\n",
    "print(type(2**31)) #int"
   ]
  },
  {
   "cell_type": "code",
   "execution_count": 28,
   "metadata": {
    "colab": {
     "base_uri": "https://localhost:8080/"
    },
    "executionInfo": {
     "elapsed": 350,
     "status": "ok",
     "timestamp": 1681267458076,
     "user": {
      "displayName": "한승훈",
      "userId": "08150251924661679991"
     },
     "user_tz": -540
    },
    "id": "XiMMKJycRR4V",
    "outputId": "07198868-c309-40fd-f8d4-364ad78d7a00"
   },
   "outputs": [
    {
     "name": "stdout",
     "output_type": "stream",
     "text": [
      "<class 'float'>\n",
      "<class 'float'>\n",
      "<class 'complex'>\n",
      "-4.0\n",
      "3.0\n",
      "(3+4j)\n"
     ]
    }
   ],
   "source": [
    "# 실수의 표현\n",
    "print(type(3.14))\n",
    "print(type(314e-2))\n",
    "print(type(3 -4j)) #복소수\n",
    "x=3-4j\n",
    "print(x.imag) #허수부\n",
    "print(x.real) #실수부\n",
    "print(x.conjugate()) #켤레 복소수\n"
   ]
  },
  {
   "cell_type": "code",
   "execution_count": 30,
   "metadata": {
    "colab": {
     "base_uri": "https://localhost:8080/"
    },
    "executionInfo": {
     "elapsed": 305,
     "status": "ok",
     "timestamp": 1681267872743,
     "user": {
      "displayName": "한승훈",
      "userId": "08150251924661679991"
     },
     "user_tz": -540
    },
    "id": "Mikf-VOpRSoy",
    "outputId": "91e2e7a0-88ea-4ea1-8059-b02762c97139"
   },
   "outputs": [
    {
     "name": "stdout",
     "output_type": "stream",
     "text": [
      "12.56\n",
      "6.0\n"
     ]
    }
   ],
   "source": [
    "#원의 넓이와 삼각형 넓이 구하기\n",
    "r=2\n",
    "circle_area=(r**2) * 3.14\n",
    "print(circle_area)\n",
    "\n",
    "x=3\n",
    "y=4\n",
    "triangle_area=(x*y)/2\n",
    "print(triangle_area)"
   ]
  },
  {
   "cell_type": "code",
   "execution_count": 32,
   "metadata": {
    "colab": {
     "base_uri": "https://localhost:8080/"
    },
    "executionInfo": {
     "elapsed": 330,
     "status": "ok",
     "timestamp": 1681272465299,
     "user": {
      "displayName": "한승훈",
      "userId": "08150251924661679991"
     },
     "user_tz": -540
    },
    "id": "kG6ZsSXwVC-w",
    "outputId": "738a9d4e-6dc9-4b7b-cc2a-c95f3503d1a8"
   },
   "outputs": [
    {
     "name": "stdout",
     "output_type": "stream",
     "text": [
      "Hello world\n",
      "Hello world\n",
      "Welcome to 'Python World'\n"
     ]
    }
   ],
   "source": [
    "#문자형 실습\n",
    "print('Hello world')\n",
    "print(\"Hello world\")\n",
    "print(\"Welcome to 'Python World'\")"
   ]
  },
  {
   "cell_type": "code",
   "execution_count": 33,
   "metadata": {
    "colab": {
     "base_uri": "https://localhost:8080/"
    },
    "executionInfo": {
     "elapsed": 285,
     "status": "ok",
     "timestamp": 1681272563380,
     "user": {
      "displayName": "한승훈",
      "userId": "08150251924661679991"
     },
     "user_tz": -540
    },
    "id": "rIhg4cN-VDaZ",
    "outputId": "0b3e41a8-8440-4918-9a44-b5e47b8c8597"
   },
   "outputs": [
    {
     "name": "stdout",
     "output_type": "stream",
     "text": [
      "\n",
      "항상 태양을 바라보아라\n",
      "그리하면 너는 그림자를 볼 수 없을 것이다.\n",
      "          -헬렌 켈러\n",
      "\n"
     ]
    }
   ],
   "source": [
    "print('''\n",
    "항상 태양을 바라보아라\n",
    "그리하면 너는 그림자를 볼 수 없을 것이다.\n",
    "          -헬렌 켈러\n",
    "''')"
   ]
  },
  {
   "cell_type": "code",
   "execution_count": 34,
   "metadata": {
    "colab": {
     "base_uri": "https://localhost:8080/"
    },
    "executionInfo": {
     "elapsed": 284,
     "status": "ok",
     "timestamp": 1681272652596,
     "user": {
      "displayName": "한승훈",
      "userId": "08150251924661679991"
     },
     "user_tz": -540
    },
    "id": "_DnzG8hLVDlF",
    "outputId": "45e4ad51-2be4-47d9-c8ae-89348eaecd05"
   },
   "outputs": [
    {
     "name": "stdout",
     "output_type": "stream",
     "text": [
      "\t 탭 \n",
      " 다음줄\n"
     ]
    }
   ],
   "source": [
    "print('\\t 탭 \\n 다음줄')"
   ]
  },
  {
   "cell_type": "code",
   "execution_count": 37,
   "metadata": {
    "colab": {
     "base_uri": "https://localhost:8080/"
    },
    "executionInfo": {
     "elapsed": 6,
     "status": "ok",
     "timestamp": 1681272772034,
     "user": {
      "displayName": "한승훈",
      "userId": "08150251924661679991"
     },
     "user_tz": -540
    },
    "id": "FtoOGvaCp-hL",
    "outputId": "12f70a97-7c30-4630-d75c-04d83fc0fadc"
   },
   "outputs": [
    {
     "name": "stdout",
     "output_type": "stream",
     "text": [
      "python\n",
      "python\n"
     ]
    }
   ],
   "source": [
    "print('py' 'thon') #이런 방식은 지양\n",
    "print('py'+'thon')"
   ]
  },
  {
   "cell_type": "code",
   "execution_count": 39,
   "metadata": {
    "colab": {
     "base_uri": "https://localhost:8080/"
    },
    "executionInfo": {
     "elapsed": 327,
     "status": "ok",
     "timestamp": 1681272811696,
     "user": {
      "displayName": "한승훈",
      "userId": "08150251924661679991"
     },
     "user_tz": -540
    },
    "id": "MpgJKxwVp-6O",
    "outputId": "4704261d-1e80-4936-cc2f-cf3cd5d5c9be"
   },
   "outputs": [
    {
     "name": "stdout",
     "output_type": "stream",
     "text": [
      "pypypy\n"
     ]
    }
   ],
   "source": [
    "print('py'*3)"
   ]
  },
  {
   "cell_type": "code",
   "execution_count": 41,
   "metadata": {
    "executionInfo": {
     "elapsed": 410,
     "status": "ok",
     "timestamp": 1681273075799,
     "user": {
      "displayName": "한승훈",
      "userId": "08150251924661679991"
     },
     "user_tz": -540
    },
    "id": "kvjv3xk4q29N"
   },
   "outputs": [],
   "source": [
    "a = 'Python'"
   ]
  },
  {
   "cell_type": "code",
   "execution_count": 42,
   "metadata": {
    "colab": {
     "base_uri": "https://localhost:8080/"
    },
    "executionInfo": {
     "elapsed": 476,
     "status": "ok",
     "timestamp": 1681273089405,
     "user": {
      "displayName": "한승훈",
      "userId": "08150251924661679991"
     },
     "user_tz": -540
    },
    "id": "sJI-185wq3Lu",
    "outputId": "b6922dcd-1ea8-4522-9302-a738e9a7d89f"
   },
   "outputs": [
    {
     "name": "stdout",
     "output_type": "stream",
     "text": [
      "P\n",
      "y\n"
     ]
    }
   ],
   "source": [
    "print(a[0])\n",
    "print(a[0+1])"
   ]
  },
  {
   "cell_type": "code",
   "execution_count": 44,
   "metadata": {
    "executionInfo": {
     "elapsed": 316,
     "status": "ok",
     "timestamp": 1681273211189,
     "user": {
      "displayName": "한승훈",
      "userId": "08150251924661679991"
     },
     "user_tz": -540
    },
    "id": "J-XqSssIq3Zz"
   },
   "outputs": [],
   "source": [
    "#index read-only 변경이 불가능함\n",
    "#a[0]='A'"
   ]
  },
  {
   "cell_type": "code",
   "execution_count": 50,
   "metadata": {
    "colab": {
     "base_uri": "https://localhost:8080/"
    },
    "executionInfo": {
     "elapsed": 510,
     "status": "ok",
     "timestamp": 1681273635877,
     "user": {
      "displayName": "한승훈",
      "userId": "08150251924661679991"
     },
     "user_tz": -540
    },
    "id": "mW16PTVsq3nb",
    "outputId": "f180f3ec-db85-4bd1-d132-eb47d437f23b"
   },
   "outputs": [
    {
     "name": "stdout",
     "output_type": "stream",
     "text": [
      "P\n",
      "yth\n",
      "Py\n",
      "thon\n",
      "on\n",
      "Python\n",
      "Pto\n"
     ]
    }
   ],
   "source": [
    "#index를 이용해서 범위를 설정 가능\n",
    "print(a[0:1])\n",
    "print(a[1:4])\n",
    "print(a[:2]) #생략은 해당 방향 끝을 나타냄\n",
    "print(a[2:])\n",
    "print(a[-2:])\n",
    "print(a[:])\n",
    "print(a[::2])"
   ]
  },
  {
   "cell_type": "code",
   "execution_count": 52,
   "metadata": {
    "colab": {
     "base_uri": "https://localhost:8080/"
    },
    "executionInfo": {
     "elapsed": 477,
     "status": "ok",
     "timestamp": 1681273818977,
     "user": {
      "displayName": "한승훈",
      "userId": "08150251924661679991"
     },
     "user_tz": -540
    },
    "id": "vYGzHn1Uq3zg",
    "outputId": "31f0394e-61c7-46d8-b7db-25af80d1e0f8"
   },
   "outputs": [
    {
     "name": "stdout",
     "output_type": "stream",
     "text": [
      "3.14\n",
      "49\n",
      "23.0\n"
     ]
    }
   ],
   "source": [
    "#데이터 타입의 변환\n",
    "print(str(3.14)) #문자형으로 변환\n",
    "print(int('49')) #정수형으로 변환\n",
    "print(float(23)) #실수형으로 변환"
   ]
  },
  {
   "cell_type": "code",
   "execution_count": null,
   "metadata": {
    "id": "NUJNDMmwp_PF"
   },
   "outputs": [],
   "source": []
  },
  {
   "cell_type": "code",
   "execution_count": null,
   "metadata": {
    "id": "Zqn50bjJVDte"
   },
   "outputs": [],
   "source": []
  },
  {
   "cell_type": "code",
   "execution_count": null,
   "metadata": {
    "id": "y4_NR5O9VD1U"
   },
   "outputs": [],
   "source": []
  },
  {
   "cell_type": "code",
   "execution_count": null,
   "metadata": {
    "id": "L08SUE33VD9E"
   },
   "outputs": [],
   "source": []
  },
  {
   "cell_type": "code",
   "execution_count": null,
   "metadata": {
    "id": "pubF3SIVVEF8"
   },
   "outputs": [],
   "source": []
  },
  {
   "cell_type": "code",
   "execution_count": null,
   "metadata": {
    "id": "YTgQMN7iLZrM"
   },
   "outputs": [],
   "source": []
  }
 ],
 "metadata": {
  "colab": {
   "authorship_tag": "ABX9TyNyxHMHF0PIGpTCRk2y+0b4",
   "provenance": []
  },
  "kernelspec": {
   "display_name": "Python 3 (ipykernel)",
   "language": "python",
   "name": "python3"
  },
  "language_info": {
   "codemirror_mode": {
    "name": "ipython",
    "version": 3
   },
   "file_extension": ".py",
   "mimetype": "text/x-python",
   "name": "python",
   "nbconvert_exporter": "python",
   "pygments_lexer": "ipython3",
   "version": "3.11.3"
  }
 },
 "nbformat": 4,
 "nbformat_minor": 1
}
