{
 "cells": [
  {
   "cell_type": "markdown",
   "metadata": {
    "id": "LtYMy7VTj-0Q"
   },
   "source": [
    "#제어문\n",
    "- 조건에 따라서 다른 결과를 얻으려고 사용함\n"
   ]
  },
  {
   "cell_type": "code",
   "execution_count": null,
   "metadata": {
    "colab": {
     "base_uri": "https://localhost:8080/"
    },
    "executionInfo": {
     "elapsed": 7,
     "status": "ok",
     "timestamp": 1681287946607,
     "user": {
      "displayName": "한승훈",
      "userId": "08150251924661679991"
     },
     "user_tz": -540
    },
    "id": "bKzU5UckkZAV",
    "outputId": "4ac7e96b-8710-40d7-c736-de3dd58cc6bc"
   },
   "outputs": [
    {
     "name": "stdout",
     "output_type": "stream",
     "text": [
      "value is bigger than 5\n"
     ]
    }
   ],
   "source": [
    "value=10\n",
    "if value > 5:\n",
    "  print('value is bigger than 5')"
   ]
  },
  {
   "cell_type": "code",
   "execution_count": null,
   "metadata": {
    "colab": {
     "base_uri": "https://localhost:8080/"
    },
    "executionInfo": {
     "elapsed": 454,
     "status": "ok",
     "timestamp": 1681288036008,
     "user": {
      "displayName": "한승훈",
      "userId": "08150251924661679991"
     },
     "user_tz": -540
    },
    "id": "Jdj2xPTYkfkc",
    "outputId": "f51ffb69-b4ed-45ba-826d-fa97f0b5349f"
   },
   "outputs": [
    {
     "name": "stdout",
     "output_type": "stream",
     "text": [
      "banana\n"
     ]
    }
   ],
   "source": [
    "money=10\n",
    "if money > 100:\n",
    "  item = 'apple'\n",
    "else:\n",
    "  item = 'banana'\n",
    "print(item)"
   ]
  },
  {
   "cell_type": "code",
   "execution_count": null,
   "metadata": {
    "colab": {
     "base_uri": "https://localhost:8080/"
    },
    "executionInfo": {
     "elapsed": 2594,
     "status": "ok",
     "timestamp": 1681288519894,
     "user": {
      "displayName": "한승훈",
      "userId": "08150251924661679991"
     },
     "user_tz": -540
    },
    "id": "0EYgAc-Bk3Pu",
    "outputId": "ad82be23-3b56-412a-f08e-abac8158cba9"
   },
   "outputs": [
    {
     "name": "stdout",
     "output_type": "stream",
     "text": [
      "input your score: 85\n",
      "your score is85\n",
      "your grade isB\n"
     ]
    }
   ],
   "source": [
    "# 성적처리 \n",
    "score=int(input(('input your score: '))) #input() 으로 받은 문자는 전부 str\n",
    "\n",
    "if 90<=score<=100:\n",
    "  grade='A'\n",
    "elif 80<=score<90:\n",
    "  grade='B'\n",
    "elif 70<=score<80:\n",
    "  grade='C'\n",
    "elif 60<=score<70:\n",
    "  grade='D'\n",
    "else:\n",
    "  grade='F'\n",
    "\n",
    "print('your score is' + str(score))\n",
    "print('your grade is' + grade)"
   ]
  },
  {
   "cell_type": "code",
   "execution_count": null,
   "metadata": {
    "colab": {
     "base_uri": "https://localhost:8080/"
    },
    "executionInfo": {
     "elapsed": 3,
     "status": "ok",
     "timestamp": 1681288783997,
     "user": {
      "displayName": "한승훈",
      "userId": "08150251924661679991"
     },
     "user_tz": -540
    },
    "id": "hM9DNhwSmtFe",
    "outputId": "4a3d0ee4-ece8-48bb-f8b7-98497880009f"
   },
   "outputs": [
    {
     "name": "stdout",
     "output_type": "stream",
     "text": [
      "True\n",
      "False\n",
      "True\n",
      "False\n",
      "True\n",
      "True\n",
      "False\n",
      "False\n"
     ]
    }
   ],
   "source": [
    "# 조건식의 참과 거짓\n",
    "\n",
    "print(bool(True))\n",
    "print(bool(False))\n",
    "print(bool(123))\n",
    "print(bool(0))\n",
    "print(bool(-1)) #python에서 0을 제외한 모든 것을 True로 간주\n",
    "print(bool('apple'))\n",
    "print(bool('')) #내용이 없으면 False로 간주함\n",
    "print(bool())"
   ]
  },
  {
   "cell_type": "code",
   "execution_count": null,
   "metadata": {
    "colab": {
     "base_uri": "https://localhost:8080/"
    },
    "executionInfo": {
     "elapsed": 6,
     "status": "ok",
     "timestamp": 1681288884323,
     "user": {
      "displayName": "한승훈",
      "userId": "08150251924661679991"
     },
     "user_tz": -540
    },
    "id": "-XE1UgKmnuN-",
    "outputId": "27f5c183-a020-45a8-ecd0-c523c65fbdf4"
   },
   "outputs": [
    {
     "name": "stdout",
     "output_type": "stream",
     "text": [
      "5\n",
      "4\n",
      "3\n",
      "2\n",
      "1\n"
     ]
    }
   ],
   "source": [
    "# 반복문 (while, for)\n",
    "\n",
    "value=5\n",
    "while value >0 :\n",
    "  print(value)\n",
    "  value-=1  "
   ]
  },
  {
   "cell_type": "code",
   "execution_count": null,
   "metadata": {
    "colab": {
     "base_uri": "https://localhost:8080/"
    },
    "executionInfo": {
     "elapsed": 5,
     "status": "ok",
     "timestamp": 1681288998350,
     "user": {
      "displayName": "한승훈",
      "userId": "08150251924661679991"
     },
     "user_tz": -540
    },
    "id": "hoSYWOlEoGlI",
    "outputId": "463a6684-2d48-450a-d534-cff35c22a891"
   },
   "outputs": [
    {
     "name": "stdout",
     "output_type": "stream",
     "text": [
      "Apple\n",
      "100\n",
      "15.23\n"
     ]
    }
   ],
   "source": [
    "l=['Apple',100,15.23]\n",
    "for i in l:\n",
    "  print(i)"
   ]
  },
  {
   "cell_type": "code",
   "execution_count": 1,
   "metadata": {
    "colab": {
     "base_uri": "https://localhost:8080/"
    },
    "executionInfo": {
     "elapsed": 1206,
     "status": "ok",
     "timestamp": 1681344703377,
     "user": {
      "displayName": "한승훈",
      "userId": "08150251924661679991"
     },
     "user_tz": -540
    },
    "id": "AItCXUY4ois1",
    "outputId": "439f4c81-6c25-4805-de91-fa57fcf6abe6"
   },
   "outputs": [
    {
     "name": "stdout",
     "output_type": "stream",
     "text": [
      "2단---------\n",
      "2 * 1 = 2\n",
      "2 * 2 = 4\n",
      "2 * 3 = 6\n",
      "2 * 4 = 8\n",
      "2 * 5 = 10\n",
      "2 * 6 = 12\n",
      "2 * 7 = 14\n",
      "2 * 8 = 16\n",
      "2 * 9 = 18\n",
      "3단---------\n",
      "3 * 1 = 3\n",
      "3 * 2 = 6\n",
      "3 * 3 = 9\n",
      "3 * 4 = 12\n",
      "3 * 5 = 15\n",
      "3 * 6 = 18\n",
      "3 * 7 = 21\n",
      "3 * 8 = 24\n",
      "3 * 9 = 27\n",
      "4단---------\n",
      "4 * 1 = 4\n",
      "4 * 2 = 8\n",
      "4 * 3 = 12\n",
      "4 * 4 = 16\n",
      "4 * 5 = 20\n",
      "4 * 6 = 24\n",
      "4 * 7 = 28\n",
      "4 * 8 = 32\n",
      "4 * 9 = 36\n",
      "5단---------\n",
      "5 * 1 = 5\n",
      "5 * 2 = 10\n",
      "5 * 3 = 15\n",
      "5 * 4 = 20\n",
      "5 * 5 = 25\n",
      "5 * 6 = 30\n",
      "5 * 7 = 35\n",
      "5 * 8 = 40\n",
      "5 * 9 = 45\n",
      "6단---------\n",
      "6 * 1 = 6\n",
      "6 * 2 = 12\n",
      "6 * 3 = 18\n",
      "6 * 4 = 24\n",
      "6 * 5 = 30\n",
      "6 * 6 = 36\n",
      "6 * 7 = 42\n",
      "6 * 8 = 48\n",
      "6 * 9 = 54\n",
      "7단---------\n",
      "7 * 1 = 7\n",
      "7 * 2 = 14\n",
      "7 * 3 = 21\n",
      "7 * 4 = 28\n",
      "7 * 5 = 35\n",
      "7 * 6 = 42\n",
      "7 * 7 = 49\n",
      "7 * 8 = 56\n",
      "7 * 9 = 63\n",
      "8단---------\n",
      "8 * 1 = 8\n",
      "8 * 2 = 16\n",
      "8 * 3 = 24\n",
      "8 * 4 = 32\n",
      "8 * 5 = 40\n",
      "8 * 6 = 48\n",
      "8 * 7 = 56\n",
      "8 * 8 = 64\n",
      "8 * 9 = 72\n",
      "9단---------\n",
      "9 * 1 = 9\n",
      "9 * 2 = 18\n",
      "9 * 3 = 27\n",
      "9 * 4 = 36\n",
      "9 * 5 = 45\n",
      "9 * 6 = 54\n",
      "9 * 7 = 63\n",
      "9 * 8 = 72\n",
      "9 * 9 = 81\n"
     ]
    }
   ],
   "source": [
    "# 구구단\n",
    "for i in range(2,10):\n",
    "  print(\"{0}단---------\".format(i))\n",
    "  for j in range(1,10):\n",
    "    print(\"{0} * {1} = {2}\".format(i,j,i*j))\n",
    "    # print(i,'*',j,'=', i*j)"
   ]
  },
  {
   "cell_type": "code",
   "execution_count": 2,
   "metadata": {
    "executionInfo": {
     "elapsed": 450,
     "status": "ok",
     "timestamp": 1681344825982,
     "user": {
      "displayName": "한승훈",
      "userId": "08150251924661679991"
     },
     "user_tz": -540
    },
    "id": "Pw-didlZuUVb"
   },
   "outputs": [],
   "source": [
    "L=[1,2,3,4,5,6,7,8,9,10]"
   ]
  },
  {
   "cell_type": "code",
   "execution_count": 4,
   "metadata": {
    "colab": {
     "base_uri": "https://localhost:8080/"
    },
    "executionInfo": {
     "elapsed": 3,
     "status": "ok",
     "timestamp": 1681345008877,
     "user": {
      "displayName": "한승훈",
      "userId": "08150251924661679991"
     },
     "user_tz": -540
    },
    "id": "vl1q59juqIDo",
    "outputId": "4e9f1c60-208c-4c14-8625-971bab0265e4"
   },
   "outputs": [
    {
     "name": "stdout",
     "output_type": "stream",
     "text": [
      "Item : 1\n",
      "Item : 2\n",
      "Item : 3\n",
      "Item : 4\n",
      "Item : 5\n"
     ]
    }
   ],
   "source": [
    "#break문을 사용하면 반복문을 중간에 멈추고 나옴\n",
    "for i in L:\n",
    "  if i>5:\n",
    "    break\n",
    "  print('Item : {0}'.format(i))"
   ]
  },
  {
   "cell_type": "code",
   "execution_count": 6,
   "metadata": {
    "colab": {
     "base_uri": "https://localhost:8080/"
    },
    "executionInfo": {
     "elapsed": 4,
     "status": "ok",
     "timestamp": 1681345201589,
     "user": {
      "displayName": "한승훈",
      "userId": "08150251924661679991"
     },
     "user_tz": -540
    },
    "id": "BgVGPp3s-NCF",
    "outputId": "63774525-9751-4c2b-b73b-59f2027ae670"
   },
   "outputs": [
    {
     "name": "stdout",
     "output_type": "stream",
     "text": [
      "Item : 1\n",
      "Item : 3\n",
      "Item : 5\n",
      "Item : 7\n",
      "Item : 9\n"
     ]
    }
   ],
   "source": [
    "#continue문을 사용하면 해당 반복만 건너뜀\n",
    "for i in L:\n",
    "  if i%2==0:\n",
    "    continue\n",
    "  print('Item : {0}'.format(i))"
   ]
  },
  {
   "cell_type": "code",
   "execution_count": 13,
   "metadata": {
    "colab": {
     "base_uri": "https://localhost:8080/"
    },
    "executionInfo": {
     "elapsed": 6,
     "status": "ok",
     "timestamp": 1681345471785,
     "user": {
      "displayName": "한승훈",
      "userId": "08150251924661679991"
     },
     "user_tz": -540
    },
    "id": "BOvjeUQC-8Ft",
    "outputId": "facfa430-6fa5-4ca2-dcc6-5f519f99fc94"
   },
   "outputs": [
    {
     "name": "stdout",
     "output_type": "stream",
     "text": [
      "[0, 1, 2, 3, 4, 5, 6, 7, 8, 9]\n",
      "[5, 6, 7, 8, 9]\n",
      "[10, 8, 6, 4, 2]\n"
     ]
    }
   ],
   "source": [
    "#range() 함수를 사용하면 특정 범위의 숫자를 생성할 수 있다.\n",
    "print(list(range(10)))\n",
    "print(list(range(5,10)))\n",
    "print(list(range(10,0,-2)))\n",
    "print(list(range(0,10,2)))\n"
   ]
  },
  {
   "cell_type": "code",
   "execution_count": 14,
   "metadata": {
    "colab": {
     "base_uri": "https://localhost:8080/"
    },
    "executionInfo": {
     "elapsed": 6,
     "status": "ok",
     "timestamp": 1681345638563,
     "user": {
      "displayName": "한승훈",
      "userId": "08150251924661679991"
     },
     "user_tz": -540
    },
    "id": "3_yxfbLB_-DB",
    "outputId": "d413cd5d-c599-49a0-8b04-76564aefe402"
   },
   "outputs": [
    {
     "name": "stdout",
     "output_type": "stream",
     "text": [
      "Apple\n",
      "Orange\n",
      "Banana\n"
     ]
    }
   ],
   "source": [
    "L=['Apple','Orange','Banana']\n",
    "\n",
    "for i in L:\n",
    "  print(i)"
   ]
  },
  {
   "cell_type": "code",
   "execution_count": 15,
   "metadata": {
    "executionInfo": {
     "elapsed": 3,
     "status": "ok",
     "timestamp": 1681345655270,
     "user": {
      "displayName": "한승훈",
      "userId": "08150251924661679991"
     },
     "user_tz": -540
    },
    "id": "yXhDTMFTAm3a"
   },
   "outputs": [],
   "source": [
    "l=list(range(1,6))"
   ]
  },
  {
   "cell_type": "code",
   "execution_count": 16,
   "metadata": {
    "colab": {
     "base_uri": "https://localhost:8080/"
    },
    "executionInfo": {
     "elapsed": 6,
     "status": "ok",
     "timestamp": 1681345706528,
     "user": {
      "displayName": "한승훈",
      "userId": "08150251924661679991"
     },
     "user_tz": -540
    },
    "id": "JdDaihINAq23",
    "outputId": "a1c6ba78-b380-4250-a792-0c0608ef7270"
   },
   "outputs": [
    {
     "name": "stdout",
     "output_type": "stream",
     "text": [
      "1\n",
      "2\n",
      "3\n",
      "4\n",
      "5\n"
     ]
    },
    {
     "data": {
      "text/plain": [
       "[None, None, None, None, None]"
      ]
     },
     "execution_count": 16,
     "metadata": {},
     "output_type": "execute_result"
    }
   ],
   "source": [
    "[print(i) for i in l] #이 구문에서 print문을 사용하면 한 번 더 도는 이상한 현상이 있습니다."
   ]
  },
  {
   "cell_type": "code",
   "execution_count": 17,
   "metadata": {
    "colab": {
     "base_uri": "https://localhost:8080/"
    },
    "executionInfo": {
     "elapsed": 5,
     "status": "ok",
     "timestamp": 1681345832397,
     "user": {
      "displayName": "한승훈",
      "userId": "08150251924661679991"
     },
     "user_tz": -540
    },
    "id": "baTGjQQUA3Wr",
    "outputId": "cd30cd48-d3f3-4131-9155-c58195324f05"
   },
   "outputs": [
    {
     "data": {
      "text/plain": [
       "[1, 4, 9, 16, 25]"
      ]
     },
     "execution_count": 17,
     "metadata": {},
     "output_type": "execute_result"
    }
   ],
   "source": [
    "[i**2 for i in l]"
   ]
  },
  {
   "cell_type": "code",
   "execution_count": null,
   "metadata": {
    "id": "OGsWGVnjBWMm"
   },
   "outputs": [],
   "source": []
  },
  {
   "cell_type": "code",
   "execution_count": null,
   "metadata": {
    "id": "MJm8QHkw_4rs"
   },
   "outputs": [],
   "source": []
  },
  {
   "cell_type": "code",
   "execution_count": null,
   "metadata": {
    "id": "ePNGfes7_2y2"
   },
   "outputs": [],
   "source": []
  },
  {
   "cell_type": "code",
   "execution_count": null,
   "metadata": {
    "id": "fWpqTryx_1IS"
   },
   "outputs": [],
   "source": []
  },
  {
   "cell_type": "code",
   "execution_count": null,
   "metadata": {
    "id": "gFiC2mkk_w_k"
   },
   "outputs": [],
   "source": []
  },
  {
   "cell_type": "code",
   "execution_count": null,
   "metadata": {
    "id": "FvUnkuNZ_u9E"
   },
   "outputs": [],
   "source": []
  },
  {
   "cell_type": "code",
   "execution_count": null,
   "metadata": {
    "id": "lOaXDS2N_qwk"
   },
   "outputs": [],
   "source": []
  },
  {
   "cell_type": "code",
   "execution_count": null,
   "metadata": {
    "id": "u-YHBDa9-nF_"
   },
   "outputs": [],
   "source": []
  },
  {
   "cell_type": "code",
   "execution_count": null,
   "metadata": {
    "id": "YpGRKaub9t1m"
   },
   "outputs": [],
   "source": []
  },
  {
   "cell_type": "code",
   "execution_count": null,
   "metadata": {
    "id": "mgTBizEvqGHh"
   },
   "outputs": [],
   "source": []
  },
  {
   "cell_type": "code",
   "execution_count": null,
   "metadata": {
    "id": "X6ApEeZSp3QM"
   },
   "outputs": [],
   "source": []
  },
  {
   "cell_type": "code",
   "execution_count": null,
   "metadata": {
    "id": "DaX-ShCnpsdr"
   },
   "outputs": [],
   "source": []
  },
  {
   "cell_type": "code",
   "execution_count": null,
   "metadata": {
    "id": "Uu3Dgwr5poLD"
   },
   "outputs": [],
   "source": []
  },
  {
   "cell_type": "code",
   "execution_count": null,
   "metadata": {
    "id": "-Zn0bXidpk0U"
   },
   "outputs": [],
   "source": []
  },
  {
   "cell_type": "code",
   "execution_count": null,
   "metadata": {
    "id": "NCHYQowgpfHk"
   },
   "outputs": [],
   "source": []
  },
  {
   "cell_type": "code",
   "execution_count": null,
   "metadata": {
    "id": "n9vhmVGFpC1D"
   },
   "outputs": [],
   "source": []
  },
  {
   "cell_type": "code",
   "execution_count": null,
   "metadata": {
    "id": "tNEX7Qo6o8ri"
   },
   "outputs": [],
   "source": []
  },
  {
   "cell_type": "code",
   "execution_count": null,
   "metadata": {
    "id": "FpCnve7Inh11"
   },
   "outputs": [],
   "source": []
  },
  {
   "cell_type": "code",
   "execution_count": null,
   "metadata": {
    "id": "zTw6p5CXnM8J"
   },
   "outputs": [],
   "source": []
  },
  {
   "cell_type": "code",
   "execution_count": null,
   "metadata": {
    "id": "JTPb_zOfmesJ"
   },
   "outputs": [],
   "source": []
  },
  {
   "cell_type": "code",
   "execution_count": null,
   "metadata": {
    "id": "et_Zz7dnlKzW"
   },
   "outputs": [],
   "source": []
  },
  {
   "cell_type": "code",
   "execution_count": null,
   "metadata": {
    "id": "FEco3eJRk4pW"
   },
   "outputs": [],
   "source": []
  },
  {
   "cell_type": "code",
   "execution_count": null,
   "metadata": {
    "id": "HSO26qEJk4uz"
   },
   "outputs": [],
   "source": []
  },
  {
   "cell_type": "code",
   "execution_count": null,
   "metadata": {
    "id": "pkPpHl2fk41E"
   },
   "outputs": [],
   "source": []
  },
  {
   "cell_type": "code",
   "execution_count": null,
   "metadata": {
    "id": "_27Nwr0mk47D"
   },
   "outputs": [],
   "source": []
  },
  {
   "cell_type": "code",
   "execution_count": null,
   "metadata": {
    "id": "bFn0Q0LAk4_u"
   },
   "outputs": [],
   "source": []
  },
  {
   "cell_type": "code",
   "execution_count": null,
   "metadata": {
    "id": "f_imgsfAk5F_"
   },
   "outputs": [],
   "source": []
  },
  {
   "cell_type": "code",
   "execution_count": null,
   "metadata": {
    "id": "UN0cJCyXk5MQ"
   },
   "outputs": [],
   "source": []
  },
  {
   "cell_type": "code",
   "execution_count": null,
   "metadata": {
    "id": "lnvY0VMik5SP"
   },
   "outputs": [],
   "source": []
  },
  {
   "cell_type": "code",
   "execution_count": null,
   "metadata": {
    "id": "S25623WMkZJL"
   },
   "outputs": [],
   "source": []
  },
  {
   "cell_type": "code",
   "execution_count": null,
   "metadata": {
    "id": "Mmi-hBM3kZP1"
   },
   "outputs": [],
   "source": []
  },
  {
   "cell_type": "code",
   "execution_count": null,
   "metadata": {
    "id": "NwXipT2ykZWQ"
   },
   "outputs": [],
   "source": []
  }
 ],
 "metadata": {
  "colab": {
   "authorship_tag": "ABX9TyPW+Buuq/QZRRf+urONWgV1",
   "mount_file_id": "1aJU527d_funiixdEFM9TBb2aaZlKqdGD",
   "provenance": []
  },
  "kernelspec": {
   "display_name": "Python 3 (ipykernel)",
   "language": "python",
   "name": "python3"
  },
  "language_info": {
   "codemirror_mode": {
    "name": "ipython",
    "version": 3
   },
   "file_extension": ".py",
   "mimetype": "text/x-python",
   "name": "python",
   "nbconvert_exporter": "python",
   "pygments_lexer": "ipython3",
   "version": "3.11.3"
  }
 },
 "nbformat": 4,
 "nbformat_minor": 1
}
